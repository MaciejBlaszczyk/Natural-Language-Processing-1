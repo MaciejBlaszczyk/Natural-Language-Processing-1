{
 "cells": [
  {
   "cell_type": "code",
   "execution_count": 1,
   "metadata": {},
   "outputs": [],
   "source": [
    "import os\n",
    "import gensim\n",
    "import regex\n",
    "from collections import Counter\n",
    "from tqdm import tqdm\n",
    "n_of_lines = 50000000"
   ]
  },
  {
   "cell_type": "code",
   "execution_count": 2,
   "metadata": {},
   "outputs": [],
   "source": [
    "def get_text_file(txt_file):\n",
    "    with open(txt_file, \"r\", encoding='utf_8') as fin:\n",
    "        counter = 0\n",
    "        sentences = list()\n",
    "        for line in fin:\n",
    "            sentences.append(str.split(line))\n",
    "            counter += 1\n",
    "            if counter == n_of_lines:\n",
    "                break\n",
    "    return sentences\n",
    "\n",
    "\n",
    "def make_wordvectors(sentences, vector_size=300, vocab_size=50000,\n",
    "                     skip_gram=1, workers=4):\n",
    "    all_words = list()\n",
    "    for line in sentences:\n",
    "        for word in line:\n",
    "            all_words.append(word)\n",
    "    wordcouns = Counter(all_words)\n",
    "    print('words counted')\n",
    "    \n",
    "    min_count = wordcouns.most_common(vocab_size)[-1][1]\n",
    "    print(min_count)\n",
    "    \n",
    "    print (\"Building word2vec\")\n",
    "    model = gensim.models.Word2Vec(sentences, size=vector_size, min_count=min_count, \n",
    "                                   sg=skip_gram,\n",
    "                                   workers=workers\n",
    "                                  )\n",
    "    \n",
    "    model.save('word2vec_model.bin')"
   ]
  },
  {
   "cell_type": "code",
   "execution_count": 3,
   "metadata": {},
   "outputs": [],
   "source": [
    "test_sents = get_text_file('data/OpenSubtitles2016.txt')"
   ]
  },
  {
   "cell_type": "code",
   "execution_count": 4,
   "metadata": {},
   "outputs": [
    {
     "data": {
      "text/plain": [
       "['czy', 'ty', 'powiedziałaś', 'superniania', '?']"
      ]
     },
     "execution_count": 4,
     "metadata": {},
     "output_type": "execute_result"
    }
   ],
   "source": [
    "test_sents[1]"
   ]
  },
  {
   "cell_type": "code",
   "execution_count": 5,
   "metadata": {},
   "outputs": [
    {
     "name": "stdout",
     "output_type": "stream",
     "text": [
      "Building word2vec\n",
      "words counted\n",
      "72\n",
      "Building word2vec\n"
     ]
    },
    {
     "name": "stderr",
     "output_type": "stream",
     "text": [
      "C:\\Programs\\Anaconda3\\lib\\site-packages\\smart_open\\smart_open_lib.py:398: UserWarning: This function is deprecated, use smart_open.open instead. See the migration notes for details: https://github.com/RaRe-Technologies/smart_open/blob/master/README.rst#migrating-to-the-new-open-function\n",
      "  'See the migration notes for details: %s' % _MIGRATION_NOTES_URL\n"
     ]
    },
    {
     "name": "stdout",
     "output_type": "stream",
     "text": [
      "Done\n"
     ]
    }
   ],
   "source": [
    "print (\"Building word2vec\")\n",
    "make_wordvectors(sentences=test_sents, vocab_size=100000, workers=8)\n",
    "print (\"Done\")"
   ]
  },
  {
   "cell_type": "code",
   "execution_count": null,
   "metadata": {},
   "outputs": [],
   "source": []
  },
  {
   "cell_type": "code",
   "execution_count": null,
   "metadata": {},
   "outputs": [],
   "source": []
  },
  {
   "cell_type": "code",
   "execution_count": 2,
   "metadata": {},
   "outputs": [
    {
     "name": "stderr",
     "output_type": "stream",
     "text": [
      "C:\\Programs\\Anaconda3\\lib\\site-packages\\smart_open\\smart_open_lib.py:398: UserWarning: This function is deprecated, use smart_open.open instead. See the migration notes for details: https://github.com/RaRe-Technologies/smart_open/blob/master/README.rst#migrating-to-the-new-open-function\n",
      "  'See the migration notes for details: %s' % _MIGRATION_NOTES_URL\n"
     ]
    }
   ],
   "source": [
    "model = gensim.models.Word2Vec.load(\"word2vec_model_vocab100000_lines50000000.bin\")"
   ]
  },
  {
   "cell_type": "code",
   "execution_count": 4,
   "metadata": {},
   "outputs": [
    {
     "data": {
      "text/plain": [
       "[('królowa', 0.5901165008544922),\n",
       " ('cyganka', 0.46062755584716797),\n",
       " ('armia', 0.4593805968761444),\n",
       " ('brytania', 0.44582319259643555),\n",
       " ('wyrocznia', 0.4318598806858063),\n",
       " ('kapłanka', 0.4278806447982788),\n",
       " ('austria', 0.4258536398410797),\n",
       " ('dama', 0.4196602702140808),\n",
       " ('drużyna', 0.41416430473327637),\n",
       " ('małgorzata', 0.412775456905365)]"
      ]
     },
     "execution_count": 4,
     "metadata": {},
     "output_type": "execute_result"
    }
   ],
   "source": [
    "model.wv.most_similar(positive=['król', 'kobieta'], \n",
    "                             negative=['mężczyzna'])"
   ]
  },
  {
   "cell_type": "code",
   "execution_count": 8,
   "metadata": {},
   "outputs": [
    {
     "data": {
      "text/plain": [
       "[('księżyc', 0.4399287700653076),\n",
       " ('świeciło', 0.40970319509506226),\n",
       " ('slonce', 0.40825194120407104),\n",
       " ('błękitne', 0.40793246030807495),\n",
       " ('wzejdzie', 0.39628130197525024),\n",
       " ('wschodzi', 0.38829752802848816),\n",
       " ('zaświeci', 0.3796526789665222),\n",
       " ('wątp', 0.3756616711616516),\n",
       " ('bezchmurne', 0.371148943901062),\n",
       " ('zachmurzone', 0.36555448174476624)]"
      ]
     },
     "execution_count": 8,
     "metadata": {},
     "output_type": "execute_result"
    }
   ],
   "source": [
    "model.wv.most_similar(positive=['niebo', 'słońce'], \n",
    "                             negative=['chmury'])"
   ]
  },
  {
   "cell_type": "code",
   "execution_count": 9,
   "metadata": {},
   "outputs": [
    {
     "data": {
      "text/plain": [
       "[('jesień', 0.42503052949905396),\n",
       " ('zasypał', 0.3878931999206543),\n",
       " ('deszcz', 0.38221901655197144),\n",
       " ('zeszłe', 0.37111878395080566),\n",
       " ('wiosna', 0.3682692050933838),\n",
       " ('zimę', 0.3633911609649658),\n",
       " ('sezon', 0.3601852059364319),\n",
       " ('wakacje', 0.3547547459602356),\n",
       " ('sobotnie', 0.3520047664642334),\n",
       " ('wykałaczka', 0.34637370705604553)]"
      ]
     },
     "execution_count": 9,
     "metadata": {},
     "output_type": "execute_result"
    }
   ],
   "source": [
    "model.wv.most_similar(positive=['lato', 'śnieg'], \n",
    "                             negative=['ciepło'])"
   ]
  },
  {
   "cell_type": "code",
   "execution_count": 10,
   "metadata": {},
   "outputs": [
    {
     "data": {
      "text/plain": [
       "[('pobliżu', 0.3994203209877014),\n",
       " ('bliżej', 0.37466001510620117),\n",
       " ('obok', 0.3489120900630951),\n",
       " ('naprzeciwko', 0.3291334807872772),\n",
       " ('niedaleko', 0.3208736777305603),\n",
       " ('stromo', 0.3102261424064636),\n",
       " ('skanowani', 0.3071320652961731),\n",
       " ('siedliskiem', 0.3055933117866516),\n",
       " ('lizusem', 0.2965284287929535),\n",
       " ('głupkami', 0.29449546337127686)]"
      ]
     },
     "execution_count": 10,
     "metadata": {},
     "output_type": "execute_result"
    }
   ],
   "source": [
    "model.wv.most_similar(positive=['blisko', 'najbliżej'], \n",
    "                             negative=['najdalej'])"
   ]
  },
  {
   "cell_type": "code",
   "execution_count": 9,
   "metadata": {},
   "outputs": [
    {
     "data": {
      "text/plain": [
       "[('argentyna', 0.3538147211074829),\n",
       " ('pn', 0.35194242000579834),\n",
       " ('francja', 0.3513239622116089),\n",
       " ('gospodarka', 0.33304673433303833),\n",
       " ('guwernantka', 0.331470787525177),\n",
       " ('sopranos', 0.32775598764419556),\n",
       " ('ksiazka', 0.32607102394104004),\n",
       " ('kowalczyk', 0.3228590786457062),\n",
       " ('wiolonczela', 0.32135266065597534),\n",
       " ('italia', 0.32046061754226685)]"
      ]
     },
     "execution_count": 9,
     "metadata": {},
     "output_type": "execute_result"
    }
   ],
   "source": [
    "model.wv.most_similar(positive=['hiszpania', 'warszawa'], \n",
    "                             negative=['madryt'])"
   ]
  },
  {
   "cell_type": "code",
   "execution_count": 13,
   "metadata": {},
   "outputs": [
    {
     "data": {
      "text/plain": [
       "[('matka', 0.5336294770240784),\n",
       " ('siostra', 0.5300326347351074),\n",
       " ('córka', 0.5013511180877686),\n",
       " ('żona', 0.49447372555732727),\n",
       " ('przyjaciółka', 0.48648178577423096),\n",
       " ('mama', 0.48281508684158325),\n",
       " ('dziewczyna', 0.47352513670921326),\n",
       " ('penelopa', 0.4448668956756592),\n",
       " ('siostrzenica', 0.43797630071640015),\n",
       " ('maż', 0.43656861782073975)]"
      ]
     },
     "execution_count": 13,
     "metadata": {},
     "output_type": "execute_result"
    }
   ],
   "source": [
    "model.wv.most_similar(positive=['mąż', 'kobieta'], \n",
    "                             negative=['mężczyzna'])"
   ]
  },
  {
   "cell_type": "code",
   "execution_count": 18,
   "metadata": {},
   "outputs": [
    {
     "data": {
      "text/plain": [
       "[('zobaczyłem', 0.5411101579666138),\n",
       " ('widziałem', 0.5094157457351685),\n",
       " ('zauważyłem', 0.5008619427680969),\n",
       " ('widze', 0.4869171977043152),\n",
       " ('widziałam', 0.4491213262081146),\n",
       " ('wyczułem', 0.4341532588005066),\n",
       " ('patrzyłem', 0.4215067923069),\n",
       " ('zauważyłam', 0.40763652324676514),\n",
       " ('widzialem', 0.4042093753814697),\n",
       " ('słyszałem', 0.40027713775634766)]"
      ]
     },
     "execution_count": 18,
     "metadata": {},
     "output_type": "execute_result"
    }
   ],
   "source": [
    "model.wv.most_similar(positive=['byłem', 'widzę'], \n",
    "                             negative=['jestem'])"
   ]
  },
  {
   "cell_type": "code",
   "execution_count": 19,
   "metadata": {},
   "outputs": [
    {
     "data": {
      "text/plain": [
       "[('widziałam', 0.5829361081123352),\n",
       " ('widział', 0.44318532943725586),\n",
       " ('widzialem', 0.4371907711029053),\n",
       " ('widziałeś', 0.4311917722225189),\n",
       " ('widzieli', 0.42611730098724365),\n",
       " ('widzę', 0.42177605628967285),\n",
       " ('widzieliśmy', 0.4129542112350464),\n",
       " ('widzialam', 0.40117061138153076),\n",
       " ('widze', 0.40108370780944824),\n",
       " ('widziałaś', 0.39240962266921997)]"
      ]
     },
     "execution_count": 19,
     "metadata": {},
     "output_type": "execute_result"
    }
   ],
   "source": [
    "model.wv.most_similar(positive=['jestem', 'widziałem'], \n",
    "                             negative=['byłem'])"
   ]
  },
  {
   "cell_type": "code",
   "execution_count": 15,
   "metadata": {},
   "outputs": [
    {
     "data": {
      "text/plain": [
       "[('kwiatek', 0.410025954246521),\n",
       " ('pierścionek', 0.40085846185684204),\n",
       " ('szal', 0.3689327836036682),\n",
       " ('kwiatuszek', 0.35739538073539734),\n",
       " ('więdnie', 0.3482385277748108),\n",
       " ('kosmyk', 0.3478660583496094),\n",
       " ('wieniec', 0.3417016863822937),\n",
       " ('aniołek', 0.3395038843154907),\n",
       " ('pączek', 0.3377920687198639),\n",
       " ('welon', 0.33124876022338867)]"
      ]
     },
     "execution_count": 15,
     "metadata": {},
     "output_type": "execute_result"
    }
   ],
   "source": [
    "model.wv.most_similar(positive=['róża', 'kwiat'], \n",
    "                             negative=['roślina'])"
   ]
  },
  {
   "cell_type": "code",
   "execution_count": 22,
   "metadata": {},
   "outputs": [
    {
     "data": {
      "text/plain": [
       "[('wóz', 0.4793816804885864),\n",
       " ('wszelki', 0.3963591158390045),\n",
       " ('samochodowy', 0.3933126926422119),\n",
       " ('autobus', 0.39141470193862915),\n",
       " ('radiowóz', 0.38650351762771606),\n",
       " ('dom', 0.38411399722099304),\n",
       " ('motocykl', 0.38246941566467285),\n",
       " ('pojazd', 0.3674071431159973),\n",
       " ('mulholland', 0.3643961250782013),\n",
       " ('statek', 0.36224550008773804)]"
      ]
     },
     "execution_count": 22,
     "metadata": {},
     "output_type": "execute_result"
    }
   ],
   "source": [
    "model.wv.most_similar(positive=['samochód', 'wypadek'], \n",
    "                             negative=['koła'])"
   ]
  },
  {
   "cell_type": "code",
   "execution_count": 25,
   "metadata": {},
   "outputs": [
    {
     "data": {
      "text/plain": [
       "[('praca', 0.4511440396308899),\n",
       " ('wojna', 0.42874372005462646),\n",
       " ('impreza', 0.4282425343990326),\n",
       " ('rozrywka', 0.42694413661956787),\n",
       " ('balanga', 0.4173719584941864),\n",
       " ('magia', 0.4107885956764221),\n",
       " ('szopka', 0.41009020805358887),\n",
       " ('poezja', 0.4073946475982666),\n",
       " ('branża', 0.40159904956817627),\n",
       " ('woda', 0.3993436098098755)]"
      ]
     },
     "execution_count": 25,
     "metadata": {},
     "output_type": "execute_result"
    }
   ],
   "source": [
    "model.wv.most_similar(positive=['zabawa', 'muzyka'], \n",
    "                             negative=['taniec'])"
   ]
  },
  {
   "cell_type": "code",
   "execution_count": 27,
   "metadata": {},
   "outputs": [
    {
     "data": {
      "text/plain": [
       "[('pracuję', 0.663844108581543),\n",
       " ('pracuje', 0.5996474027633667),\n",
       " ('pracujesz', 0.5216608047485352),\n",
       " ('pracowałam', 0.5133979320526123),\n",
       " ('pracujemy', 0.5024423599243164),\n",
       " ('pracował', 0.49125534296035767),\n",
       " ('pracować', 0.4788486063480377),\n",
       " ('pracowaliśmy', 0.4615871012210846),\n",
       " ('pracują', 0.4596034288406372),\n",
       " ('pracowała', 0.4480316936969757)]"
      ]
     },
     "execution_count": 27,
     "metadata": {},
     "output_type": "execute_result"
    }
   ],
   "source": [
    "model.wv.most_similar(positive=['robię', 'pracowałem'], \n",
    "                             negative=['robiłem'])"
   ]
  },
  {
   "cell_type": "code",
   "execution_count": 29,
   "metadata": {},
   "outputs": [
    {
     "data": {
      "text/plain": [
       "[('poruszam', 0.39577919244766235),\n",
       " ('biegam', 0.38051801919937134),\n",
       " ('spaceruję', 0.35884371399879456),\n",
       " ('biegałeś', 0.3506694436073303),\n",
       " ('łaziłem', 0.347728967666626),\n",
       " ('zawróciłem', 0.34684044122695923),\n",
       " ('biegłem', 0.3461698889732361),\n",
       " ('krążymy', 0.3431309759616852),\n",
       " ('łowię', 0.34240439534187317),\n",
       " ('wchodze', 0.34094980359077454)]"
      ]
     },
     "execution_count": 29,
     "metadata": {},
     "output_type": "execute_result"
    }
   ],
   "source": [
    "model.wv.most_similar(positive=['pływam', 'biegałem'], \n",
    "                             negative=['pływałem'])"
   ]
  },
  {
   "cell_type": "code",
   "execution_count": 30,
   "metadata": {},
   "outputs": [
    {
     "data": {
      "text/plain": [
       "[('oszukuję', 0.3735451400279999),\n",
       " ('okłamałam', 0.34003618359565735),\n",
       " ('skarżę', 0.33394932746887207),\n",
       " ('oszukałem', 0.3147563934326172),\n",
       " ('posłuszna', 0.30811357498168945),\n",
       " ('ranię', 0.3077520728111267),\n",
       " ('domyślisz', 0.304212361574173),\n",
       " ('rozdzielać', 0.3040577173233032),\n",
       " ('okłamuję', 0.3036328852176666),\n",
       " ('skrzywdziłem', 0.3013016879558563)]"
      ]
     },
     "execution_count": 30,
     "metadata": {},
     "output_type": "execute_result"
    }
   ],
   "source": [
    "model.wv.most_similar(positive=['kłamię', 'oszukiwałem'], \n",
    "                             negative=['kłamałem'])"
   ]
  },
  {
   "cell_type": "code",
   "execution_count": 32,
   "metadata": {},
   "outputs": [
    {
     "data": {
      "text/plain": [
       "[('zastrzelę', 0.42370009422302246),\n",
       " ('ukatrupię', 0.4181016683578491),\n",
       " ('wypruję', 0.4169749915599823),\n",
       " ('osłonię', 0.4089369773864746),\n",
       " ('podziurawię', 0.40702372789382935),\n",
       " ('pchnę', 0.3966563940048218),\n",
       " ('postrzelę', 0.39091143012046814),\n",
       " ('wrzucę', 0.38914620876312256),\n",
       " ('rozniosę', 0.38887983560562134),\n",
       " ('zgniotę', 0.38164007663726807)]"
      ]
     },
     "execution_count": 32,
     "metadata": {},
     "output_type": "execute_result"
    }
   ],
   "source": [
    "model.wv.most_similar(positive=['zabiję', 'strzelałem'], \n",
    "                             negative=['zabiłem'])"
   ]
  },
  {
   "cell_type": "code",
   "execution_count": 34,
   "metadata": {},
   "outputs": [
    {
     "data": {
      "text/plain": [
       "[('ugryzę', 0.4249495267868042),\n",
       " ('zgwałcę', 0.4122791290283203),\n",
       " ('oszukałam', 0.38457393646240234),\n",
       " ('podrywam', 0.3838348388671875),\n",
       " ('rozbolał', 0.3832361102104187),\n",
       " ('pocałowałam', 0.3785712718963623),\n",
       " ('podglądam', 0.37538567185401917),\n",
       " ('pogięło', 0.37320220470428467),\n",
       " ('pocałował', 0.37254124879837036),\n",
       " ('ubóstwiam', 0.37017470598220825)]"
      ]
     },
     "execution_count": 34,
     "metadata": {},
     "output_type": "execute_result"
    }
   ],
   "source": [
    "model.wv.most_similar(positive=['kocham', 'pocałowałem'], \n",
    "                             negative=['kochałem'])"
   ]
  },
  {
   "cell_type": "code",
   "execution_count": 36,
   "metadata": {},
   "outputs": [
    {
     "data": {
      "text/plain": [
       "[('tekst', 0.3448552191257477),\n",
       " ('kompromis', 0.3289778530597687),\n",
       " ('śpiwór', 0.3245352804660797),\n",
       " ('odcinków', 0.31738176941871643),\n",
       " ('kamień', 0.31284940242767334),\n",
       " ('odtworzony', 0.3090559244155884),\n",
       " ('materiał', 0.30865997076034546),\n",
       " ('nosek', 0.30582287907600403),\n",
       " ('pagórek', 0.3021758198738098),\n",
       " ('egzemplarzach', 0.30001142621040344)]"
      ]
     },
     "execution_count": 36,
     "metadata": {},
     "output_type": "execute_result"
    }
   ],
   "source": [
    "model.wv.most_similar(positive=['całość', 'fragment'], \n",
    "                             negative=['część'])"
   ]
  },
  {
   "cell_type": "code",
   "execution_count": 7,
   "metadata": {},
   "outputs": [
    {
     "data": {
      "text/plain": [
       "[('londyn', 0.42132851481437683),\n",
       " ('marsylia', 0.3629785478115082),\n",
       " ('wrzesień', 0.35385555028915405),\n",
       " ('hamburg', 0.3531206250190735),\n",
       " ('orlean', 0.3364657759666443),\n",
       " ('jork', 0.3346133530139923),\n",
       " ('normandia', 0.33426040410995483),\n",
       " ('wietnam', 0.32357126474380493),\n",
       " ('wiedeń', 0.32259172201156616),\n",
       " ('lipiec', 0.31526631116867065)]"
      ]
     },
     "execution_count": 7,
     "metadata": {},
     "output_type": "execute_result"
    }
   ],
   "source": [
    "model.wv.most_similar(positive=['paryż', 'anglia'], \n",
    "                             negative=['francja'])"
   ]
  }
 ],
 "metadata": {
  "kernelspec": {
   "display_name": "Python 3",
   "language": "python",
   "name": "python3"
  },
  "language_info": {
   "codemirror_mode": {
    "name": "ipython",
    "version": 3
   },
   "file_extension": ".py",
   "mimetype": "text/x-python",
   "name": "python",
   "nbconvert_exporter": "python",
   "pygments_lexer": "ipython3",
   "version": "3.6.5"
  }
 },
 "nbformat": 4,
 "nbformat_minor": 2
}
