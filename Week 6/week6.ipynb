{
 "cells": [
  {
   "cell_type": "code",
   "execution_count": 1,
   "metadata": {},
   "outputs": [],
   "source": [
    "import re\n",
    "import numpy as np\n",
    "from sklearn.feature_extraction.text import TfidfVectorizer, CountVectorizer, TfidfTransformer\n",
    "from sklearn.metrics.pairwise import cosine_similarity, pairwise_distances\n",
    "import codecs\n",
    "from collections import Counter, defaultdict\n",
    "from matplotlib import pyplot as plt\n",
    "import time\n",
    "datasets_path = 'C:/Users/OptimusPrime/Desktop/Studia/NLP1/Natural-Language-Processing-1/Week 6/Data'"
   ]
  },
  {
   "cell_type": "code",
   "execution_count": 2,
   "metadata": {},
   "outputs": [],
   "source": [
    "voc = dict()\n",
    "with codecs.open(datasets_path + '\\\\odm.txt', 'r', 'utf-8') as f:\n",
    "    text = f.read().lower() #read whole file to string\n",
    "    lines = text.split('\\r\\n') #zwraca liste stringow(linii)\n",
    "    for line in lines:\n",
    "        words = np.array(line.split(', '))\n",
    "        for word in words:\n",
    "            voc[word] = words[0]"
   ]
  },
  {
   "cell_type": "code",
   "execution_count": 3,
   "metadata": {},
   "outputs": [],
   "source": [
    "with codecs.open(datasets_path + '\\\\pap.txt', 'r', 'utf-8') as f:\n",
    "    text = f.read().lower()\n",
    "    preprocessed_text = re.sub(r'#\\d+', '##', text)\n",
    "    preprocessed_text = re.sub(r'\\n', ' ', preprocessed_text)\n",
    "    preprocessed_text = re.sub(r'[\\\\,.\\-\\'\\\"()?:;+\\/\\d+&`!\\[\\]@<>%*~{}=\\x96\\x84\\x8c\\x9c\\x9f\\x92\\x80]', '', preprocessed_text)\n",
    "    preprocessed_text = re.sub(r'[\\xbc-\\xff]', '', preprocessed_text)\n",
    "    preprocessed_text = re.sub(r'   ', '  ', preprocessed_text)\n",
    "    preprocessed_text = re.sub(r'  ', ' ', preprocessed_text)\n",
    "    splitted_notes = np.array(preprocessed_text.split('##'))"
   ]
  },
  {
   "cell_type": "code",
   "execution_count": 4,
   "metadata": {},
   "outputs": [],
   "source": [
    "def to_basic_form(matchobj):\n",
    "    word = matchobj.group(0)\n",
    "    if word in voc:\n",
    "        return voc[word]\n",
    "    else:\n",
    "        return None\n",
    "\n",
    "\n",
    "word_pattern = re.compile('\\w+')\n",
    "basic_form_notes = list()\n",
    "for note in splitted_notes:\n",
    "    basic_form_notes.append(word_pattern.sub(to_basic_form, note))"
   ]
  },
  {
   "cell_type": "code",
   "execution_count": null,
   "metadata": {},
   "outputs": [],
   "source": []
  },
  {
   "cell_type": "code",
   "execution_count": null,
   "metadata": {},
   "outputs": [],
   "source": []
  },
  {
   "cell_type": "code",
   "execution_count": 5,
   "metadata": {},
   "outputs": [
    {
     "data": {
      "text/plain": [
       "<51557x14317 sparse matrix of type '<class 'numpy.float64'>'\n",
       "\twith 1448452 stored elements in Compressed Sparse Row format>"
      ]
     },
     "execution_count": 5,
     "metadata": {},
     "output_type": "execute_result"
    }
   ],
   "source": [
    "tf = TfidfVectorizer(max_df=3000, min_df=6, token_pattern='(?u)\\\\b\\\\w+\\\\b')\n",
    "freq_matr = tf.fit_transform(basic_form_notes)\n",
    "freq_matr"
   ]
  },
  {
   "cell_type": "code",
   "execution_count": 6,
   "metadata": {},
   "outputs": [],
   "source": [
    "frequency_matrix = freq_matr.toarray()\n",
    "chosen_note = frequency_matrix[2634].astype(bool)"
   ]
  },
  {
   "cell_type": "code",
   "execution_count": 7,
   "metadata": {},
   "outputs": [
    {
     "name": "stdout",
     "output_type": "stream",
     "text": [
      "Time:9.238804340362549\n"
     ]
    }
   ],
   "source": [
    "start = time.time()\n",
    "dice_similarity_vector = [pairwise_distances([chosen_note, note], metric='dice')[0][1] for note in frequency_matrix.astype(bool)]\n",
    "print(\"Time:\" + str(time.time() - start))"
   ]
  },
  {
   "cell_type": "code",
   "execution_count": 8,
   "metadata": {},
   "outputs": [
    {
     "data": {
      "image/png": "[encoded data removed]",
      "text/plain": [
       "<Figure size 432x288 with 1 Axes>"
      ]
     },
     "metadata": {},
     "output_type": "display_data"
    }
   ],
   "source": [
    "dice_distribution = Counter([metric for metric in dice_similarity_vector if metric != 1.0 and metric != 0.0])\n",
    "plt.scatter(list(dice_distribution.keys()), list(dice_distribution.values()), s=9)\n",
    "plt.show()"
   ]
  },
  {
   "cell_type": "code",
   "execution_count": 9,
   "metadata": {},
   "outputs": [
    {
     "name": "stdout",
     "output_type": "stream",
     "text": [
      "Number of similar notes: 31\n"
     ]
    }
   ],
   "source": [
    "indices = dict()\n",
    "indices['tfidf'] = list()\n",
    "indices['graph3'] = list()\n",
    "indices['graph4'] = list()\n",
    "indices['graph5'] = list()\n",
    "indices['LDA'] = list()\n",
    "for i in range(len(dice_similarity_vector)):\n",
    "    if dice_similarity_vector[i] < 0.80:\n",
    "        indices['tfidf'].append(i)\n",
    "print(\"Number of similar notes: \" + str(len(indices['tfidf'])))"
   ]
  },
  {
   "cell_type": "code",
   "execution_count": null,
   "metadata": {},
   "outputs": [],
   "source": []
  },
  {
   "cell_type": "code",
   "execution_count": null,
   "metadata": {},
   "outputs": [],
   "source": []
  },
  {
   "cell_type": "code",
   "execution_count": 10,
   "metadata": {},
   "outputs": [],
   "source": [
    "cv = CountVectorizer(max_df=3000, min_df=6, token_pattern='(?u)\\\\b\\\\w+\\\\b')\n",
    "cv_freq_matrix = cv.fit_transform(basic_form_notes)\n",
    "words = cv.get_feature_names()\n",
    "occurence_number = cv_freq_matrix.sum(axis=0).A1\n",
    "len(cv.stop_words_)\n",
    "stop_list = cv.stop_words_"
   ]
  },
  {
   "cell_type": "code",
   "execution_count": 11,
   "metadata": {},
   "outputs": [],
   "source": [
    "occurence_number, words = (list(t) for t in zip(*sorted(zip(occurence_number, words), reverse=True)))"
   ]
  },
  {
   "cell_type": "code",
   "execution_count": 12,
   "metadata": {},
   "outputs": [
    {
     "data": {
      "text/plain": [
       "<51557x14317 sparse matrix of type '<class 'numpy.int64'>'\n",
       "\twith 1448452 stored elements in Compressed Sparse Row format>"
      ]
     },
     "execution_count": 12,
     "metadata": {},
     "output_type": "execute_result"
    }
   ],
   "source": [
    "cv_freq_matrix"
   ]
  },
  {
   "cell_type": "code",
   "execution_count": 13,
   "metadata": {},
   "outputs": [],
   "source": [
    "def delete_banned_words(matchobj):\n",
    "    word = matchobj.group(0)\n",
    "    if word.lower() in banned_words:\n",
    "        return \"\"\n",
    "    else:\n",
    "        return word\n",
    "\n",
    "banned_words = stop_list\n",
    "word_pattern = re.compile('\\w+')\n",
    "graph_notes = list()\n",
    "for sentence in basic_form_notes:\n",
    "    graph_notes.append(word_pattern.sub(delete_banned_words, sentence).split())    "
   ]
  },
  {
   "cell_type": "code",
   "execution_count": 14,
   "metadata": {},
   "outputs": [],
   "source": [
    "encoder= {k: v for (k, v) in zip(words, range(len(words)))}"
   ]
  },
  {
   "cell_type": "code",
   "execution_count": 15,
   "metadata": {},
   "outputs": [],
   "source": [
    "def transform_from_words_note_to_graph_vector(graph_note, n):\n",
    "    note_matrix_dict = defaultdict(int)\n",
    "    note_len = len(graph_note)\n",
    "    if note_len == n-4 or note_len == n-3 or note_len == n-2 or note_len == n-1:\n",
    "        return defaultdict(int)\n",
    "    for i in range(note_len):\n",
    "        if i == note_len - (n -1):\n",
    "            break;  \n",
    "        for j in range(n-1):\n",
    "            note_matrix_dict[(encoder[graph_note[i]], encoder[graph_note[i+1+j]])] += 1\n",
    "    return note_matrix_dict"
   ]
  },
  {
   "cell_type": "code",
   "execution_count": 16,
   "metadata": {},
   "outputs": [
    {
     "data": {
      "image/png": "[encoded data removed]",
      "text/plain": [
       "<Figure size 432x288 with 1 Axes>"
      ]
     },
     "metadata": {},
     "output_type": "display_data"
    }
   ],
   "source": [
    "chosen_note = transform_from_words_note_to_graph_vector(graph_notes[2634], 3)\n",
    "dice_metric = list()\n",
    "for note in graph_notes:\n",
    "    test_note = transform_from_words_note_to_graph_vector(note, 3)\n",
    "    X_Y = 0\n",
    "    X = len(test_note)\n",
    "    Y = len(chosen_note)\n",
    "    for key in chosen_note:\n",
    "        if key in test_note:\n",
    "            X_Y += 1\n",
    "    dice_metric.append(1-(2*X_Y/(X+Y)))\n",
    "\n",
    "dice_distribution = Counter([metric for metric in dice_metric if metric != 1.0 and metric != 0.0])\n",
    "plt.scatter(list(dice_distribution.keys()), list(dice_distribution.values()), s=9)\n",
    "plt.show()"
   ]
  },
  {
   "cell_type": "code",
   "execution_count": 17,
   "metadata": {},
   "outputs": [
    {
     "name": "stdout",
     "output_type": "stream",
     "text": [
      "Number of similar notes: 25\n"
     ]
    }
   ],
   "source": [
    "for i in range(len(dice_metric)):\n",
    "    if dice_metric[i] < 0.9999:\n",
    "        indices['graph3'].append(i)\n",
    "print(\"Number of similar notes: \" + str(len(indices['graph3'])))"
   ]
  },
  {
   "cell_type": "code",
   "execution_count": null,
   "metadata": {},
   "outputs": [],
   "source": []
  },
  {
   "cell_type": "code",
   "execution_count": null,
   "metadata": {},
   "outputs": [],
   "source": []
  },
  {
   "cell_type": "code",
   "execution_count": 18,
   "metadata": {},
   "outputs": [
    {
     "data": {
      "image/png": "[encoded data removed]",
      "text/plain": [
       "<Figure size 432x288 with 1 Axes>"
      ]
     },
     "metadata": {},
     "output_type": "display_data"
    }
   ],
   "source": [
    "chosen_note = transform_from_words_note_to_graph_vector(graph_notes[2634], 4)\n",
    "dice_metric = list()\n",
    "for note in graph_notes:\n",
    "    test_note = transform_from_words_note_to_graph_vector(note, 4)\n",
    "    X_Y = 0\n",
    "    X = len(test_note)\n",
    "    Y = len(chosen_note)\n",
    "    for key in chosen_note:\n",
    "        if key in test_note:\n",
    "            X_Y += 1\n",
    "    dice_metric.append(1-(2*X_Y/(X+Y)))\n",
    "\n",
    "dice_distribution = Counter([metric for metric in dice_metric if metric != 1.0 and metric != 0.0])\n",
    "plt.scatter(list(dice_distribution.keys()), list(dice_distribution.values()), s=9)\n",
    "plt.show()"
   ]
  },
  {
   "cell_type": "code",
   "execution_count": 19,
   "metadata": {},
   "outputs": [
    {
     "name": "stdout",
     "output_type": "stream",
     "text": [
      "Number of similar notes: 46\n"
     ]
    }
   ],
   "source": [
    "for i in range(len(dice_metric)):\n",
    "    if dice_metric[i] < 0.9999:\n",
    "        indices['graph4'].append(i)\n",
    "print(\"Number of similar notes: \" + str(len(indices['graph4'])))"
   ]
  },
  {
   "cell_type": "code",
   "execution_count": null,
   "metadata": {},
   "outputs": [],
   "source": []
  },
  {
   "cell_type": "code",
   "execution_count": null,
   "metadata": {},
   "outputs": [],
   "source": []
  },
  {
   "cell_type": "code",
   "execution_count": 20,
   "metadata": {},
   "outputs": [
    {
     "data": {
      "image/png": "[encoded data removed]",
      "text/plain": [
       "<Figure size 432x288 with 1 Axes>"
      ]
     },
     "metadata": {},
     "output_type": "display_data"
    }
   ],
   "source": [
    "chosen_note = transform_from_words_note_to_graph_vector(graph_notes[2634], 5)\n",
    "dice_metric = list()\n",
    "for note in graph_notes:\n",
    "    test_note = transform_from_words_note_to_graph_vector(note, 5)\n",
    "    X_Y = 0\n",
    "    X = len(test_note)\n",
    "    Y = len(chosen_note)\n",
    "    for key in chosen_note:\n",
    "        if key in test_note:\n",
    "            X_Y += 1\n",
    "    dice_metric.append(1-(2*X_Y/(X+Y)))\n",
    "\n",
    "dice_distribution = Counter([metric for metric in dice_metric if metric != 1.0 and metric != 0.0])\n",
    "plt.scatter(list(dice_distribution.keys()), list(dice_distribution.values()), s=9)\n",
    "plt.show()"
   ]
  },
  {
   "cell_type": "code",
   "execution_count": 21,
   "metadata": {},
   "outputs": [
    {
     "name": "stdout",
     "output_type": "stream",
     "text": [
      "Number of similar notes: 52\n"
     ]
    }
   ],
   "source": [
    "for i in range(len(dice_metric)):\n",
    "    if dice_metric[i] < 0.9999:\n",
    "        indices['graph5'].append(i)\n",
    "print(\"Number of similar notes: \" + str(len(indices['graph5'])))"
   ]
  },
  {
   "cell_type": "code",
   "execution_count": null,
   "metadata": {},
   "outputs": [],
   "source": []
  },
  {
   "cell_type": "code",
   "execution_count": null,
   "metadata": {},
   "outputs": [],
   "source": []
  },
  {
   "cell_type": "code",
   "execution_count": 22,
   "metadata": {},
   "outputs": [],
   "source": [
    "from sklearn.decomposition import TruncatedSVD\n",
    "svd = TruncatedSVD(n_components=100, random_state=5)\n",
    "reduced_freq_matr = svd.fit_transform(freq_matr)"
   ]
  },
  {
   "cell_type": "code",
   "execution_count": 23,
   "metadata": {},
   "outputs": [],
   "source": [
    "chosen_note = reduced_freq_matr[2634]"
   ]
  },
  {
   "cell_type": "code",
   "execution_count": 24,
   "metadata": {},
   "outputs": [
    {
     "name": "stdout",
     "output_type": "stream",
     "text": [
      "Time:6.550711393356323\n"
     ]
    }
   ],
   "source": [
    "start = time.time()\n",
    "dice_similarity_vector = [cosine_similarity([chosen_note, note])[0][1] for note in reduced_freq_matr]\n",
    "print(\"Time:\" + str(time.time() - start))"
   ]
  },
  {
   "cell_type": "code",
   "execution_count": 25,
   "metadata": {},
   "outputs": [
    {
     "data": {
      "image/png": "[encoded data removed]",
      "text/plain": [
       "<Figure size 432x288 with 1 Axes>"
      ]
     },
     "metadata": {},
     "output_type": "display_data"
    }
   ],
   "source": [
    "dice_distribution = Counter([metric for metric in dice_similarity_vector])\n",
    "plt.scatter(list(dice_distribution.keys()), list(dice_distribution.values()), s=9)\n",
    "plt.show()"
   ]
  },
  {
   "cell_type": "code",
   "execution_count": 26,
   "metadata": {},
   "outputs": [
    {
     "name": "stdout",
     "output_type": "stream",
     "text": [
      "Number of similar notes: 56\n"
     ]
    }
   ],
   "source": [
    "indices['LDA'] = list()\n",
    "for i in range(len(dice_similarity_vector)):\n",
    "    if dice_similarity_vector[i] > 0.70:\n",
    "        indices['LDA'].append(i)\n",
    "print(\"Number of similar notes: \" + str(len(indices['LDA'])))"
   ]
  },
  {
   "cell_type": "code",
   "execution_count": null,
   "metadata": {},
   "outputs": [],
   "source": []
  },
  {
   "cell_type": "code",
   "execution_count": null,
   "metadata": {},
   "outputs": [],
   "source": []
  },
  {
   "cell_type": "code",
   "execution_count": 27,
   "metadata": {},
   "outputs": [],
   "source": [
    "all_indices = set()\n",
    "for key in indices:\n",
    "    for val in indices[key]:\n",
    "        all_indices.add(val)\n"
   ]
  },
  {
   "cell_type": "code",
   "execution_count": 28,
   "metadata": {},
   "outputs": [
    {
     "data": {
      "text/plain": [
       "{102,\n",
       " 1540,\n",
       " 1866,\n",
       " 1938,\n",
       " 2219,\n",
       " 2634,\n",
       " 3468,\n",
       " 3470,\n",
       " 3590,\n",
       " 3690,\n",
       " 4087,\n",
       " 4989,\n",
       " 5087,\n",
       " 5955,\n",
       " 7411,\n",
       " 7529,\n",
       " 7756,\n",
       " 8056,\n",
       " 8168,\n",
       " 9911,\n",
       " 10108,\n",
       " 11089,\n",
       " 11197,\n",
       " 11708,\n",
       " 12049,\n",
       " 12200,\n",
       " 12515,\n",
       " 12712,\n",
       " 13756,\n",
       " 13853,\n",
       " 14917,\n",
       " 16193,\n",
       " 17294,\n",
       " 17458,\n",
       " 17486,\n",
       " 17574,\n",
       " 18080,\n",
       " 18345,\n",
       " 18346,\n",
       " 18474,\n",
       " 18814,\n",
       " 19409,\n",
       " 20716,\n",
       " 20811,\n",
       " 20894,\n",
       " 21231,\n",
       " 21422,\n",
       " 21515,\n",
       " 21976,\n",
       " 22062,\n",
       " 22288,\n",
       " 23562,\n",
       " 23563,\n",
       " 23646,\n",
       " 23867,\n",
       " 23948,\n",
       " 23960,\n",
       " 25089,\n",
       " 25225,\n",
       " 25325,\n",
       " 25562,\n",
       " 26103,\n",
       " 26856,\n",
       " 27012,\n",
       " 27095,\n",
       " 27184,\n",
       " 27391,\n",
       " 27403,\n",
       " 27880,\n",
       " 27993,\n",
       " 28753,\n",
       " 29297,\n",
       " 29632,\n",
       " 30417,\n",
       " 31016,\n",
       " 32331,\n",
       " 33566,\n",
       " 34520,\n",
       " 34622,\n",
       " 37385,\n",
       " 37523,\n",
       " 37754,\n",
       " 37891,\n",
       " 37911,\n",
       " 38016,\n",
       " 38018,\n",
       " 38179,\n",
       " 38420,\n",
       " 38523,\n",
       " 38666,\n",
       " 39034,\n",
       " 39274,\n",
       " 40125,\n",
       " 40130,\n",
       " 40773,\n",
       " 42268,\n",
       " 44751,\n",
       " 45970,\n",
       " 46545,\n",
       " 46936,\n",
       " 46937,\n",
       " 47027,\n",
       " 47796,\n",
       " 48030,\n",
       " 48271,\n",
       " 48328,\n",
       " 48370,\n",
       " 48556,\n",
       " 48672,\n",
       " 48673,\n",
       " 48992,\n",
       " 49798}"
      ]
     },
     "execution_count": 28,
     "metadata": {},
     "output_type": "execute_result"
    }
   ],
   "source": [
    "all_indices"
   ]
  },
  {
   "cell_type": "code",
   "execution_count": 29,
   "metadata": {},
   "outputs": [
    {
     "name": "stdout",
     "output_type": "stream",
     "text": [
      "\n",
      " 0  aby osiągnąć na szczycie unii europejskiej w nicei europejskie porozumienie niemcy gotowe są do kompromisw w istotnych sprawach oświadczyły koła rządowe w berlinie mamy fundamentalny interes w tym aby nicea zakończyła się sukcesem powiedział przedstawiciel niemieckiego rządu niemcy nie będą demonstrować siły ani też szukać konfrontacji zapewnił koła rządowe w berlinie przyznają że kraje unii nie osiągnęły jeszcze porozumienia w wielu istotnych kwestiach jako trudne problemy wymieniono liczbę członkw komisji europejskiej rozdział głosw w radzie ue pomiędzy poszczeglne państwa oraz przejście od dotychczasowej zasady jednomyślności do podejmowania decyzji większością głosw z zapowiedzi niemieckiego rządu wynika że berlin gotowy jest do rezygnacji z jednego komisarza obecnie dwaj komisarze to niemcy oraz w przypadku wprowadzenia zasady rotacji do czasowej rezygnacji z obecności w komisji \n",
      "\n",
      " 1  załoga wahadłowca endeavour ktry w sobotę zacumował do międzynarodowej stacji kosmicznej iss mogła się wreszcie uścisnąć z trzema gospodarzami stacji po otwarciu lukw siedmioosobową załogę wahadłowca powitali na stacji przebywający tam od marca rosjanin i dwoje amerykanw były uściski i wsplne fotografie \n",
      "\n",
      " 2  do konca roku zostana ukonczone dwie kolejne stacje metra w warszawie swietokrzyska i ratusz zapowiedzial wicedyrektor metra warszawskiego henryk brzuchacz obiecal ze pierwszy pociag z kabat do stacji ratusz wyruszy w boze narodzenie natomiast budowa calej pierwszej linii metra laczacej kabaty z placem wilsona zakonczy sie w roku wedlug niego trzeba na to wydac jeszcze dwa miliardy zlotych \n",
      "\n",
      " 3  dwaj kosmonauci siergiej zaletin i aleksander kaleri polecą we wtorek na stację orbitalną mir ktra od siedmiu miesięcy nie ma załogi \n",
      "\n",
      " 4  w indiach udało się wystrzelić rakietę nośną gslv zdolną wynosić satelity na orbitę geostacjonarną podała państwowa agencja prasowa pti \n",
      "\n",
      " 5  z kosmodromu bajkonur w kazachstanie wystartował rosyjski statek towarowy progressm ktry dostarczy na powstającą na orbicie międzynarodową stację kosmiczną iss tony ładunku \n",
      "\n",
      " 6  europejska rakieta nośna ariane wyniosła w nocy ze środy na czwartek na orbitę cztery satelity o rekordowej wadze łącznie tony \n",
      "\n",
      " 7  stacja orbitalna mir zostanie prawdopodobnie sprowadzona z orbity okołoziemskiej i zatopiona w oceanie w lutym przyszłego roku powiedział agencji interfax wicepremier rosji ilja klebanow mir pozostaje na orbicie od roku stacja wielokrotnie doświadczała najrozmaitszych awarii a na jej remonty brakuje pieniędzy klebanow poinformował że do sprowadzenia tej stacji z orbity posłuży kosmiczny statek transportowy progres \n",
      "\n",
      " 8  amerykańska agencja kosmiczna nasa przedłużyła o dwa dni pobyt na orbicie wahadłowca endeavour i zapowiedziała rozmowy z rosjanami \n",
      "\n",
      " 9  pierwszy na świecie kosmiczny turysta amerykanin dennis tito udał się na kosmodrom bajkonur w kazachstanie tu ma zakończyć przygotowania do podrży na międzynarodową stacje kosmiczną iss dokąd poleci kwietnia wraz z dwoma rosyjskimi kosmonautami tałgatem musabajewem i jurijem baturinem \n",
      "\n",
      " 10  rosyjskoukraińska rakieta zenit wystrzelona została w nocy z piątku na sobotę z pływającego na pacyfiku kosmodromu morski start i umieściła na orbicie wokłziemskiej aparat kosmiczny panamsat aparat o masie tony przeznaczony jest do transmitowania programw telewizyjnych z orbity geostacjonarnej w marcu tego roku wskutek niepowodzenia startu rakiety z pływającego kosmodromu stracony został satelita o wartości milionw dolarw kosmodrom ten przerobiony został z platformy naftowej w momencie startu rakiety zenit znajdował się on w odległości kilometrw na południowy wschd od hawajw \n",
      "\n",
      " 11  europejska agencja kosmiczna przygotowuje misję betti colombo obejmującą wysłanie w roku sondy do planety merkury dzięki wspłpracy z esa polska ma szansę wejść do międzynarodowego konsorcjum przygotowującego aparaturę naukową i plany badawcze dla tej misji powiedział pap dyrektor centrum badań kosmicznych pan prof zbigniew kłos sonda będzie się składać z dwch orbiterw ktre staną się sztucznymi satelitami merkurego i lądownika kret do bezpośrednich badań na powierzchni planety pierwszy satelita europejski będzie badał i fotografował z niskiej orbity powierzchnię globu drugi dostarczony w ramach międzynarodowej kooperacji przez japonię będzie prowadził z wysokiej orbity badania jonosfery merkurego oraz występujących w niej zjawisk magnetycznych i elektrycznych w cbk pan powstało unikatowe urządzenie mupus zbudowane dla międzynarodowej misji rosetta do badania materii tworzącej twarde jądro komety jest to rodzaj młotka ktry wbije się w grunt komety co pozwoli poznać jego strukturę wykorzystując doświadczenia przy budowie mupusa możemy skonstruować podobny przyrząd przystosowany do badania gruntu na merkurym nasz projekt geologicznego młotka dla merkurego wzbudza zainteresowanie esa powiedział kłos merkury położona najbliżej słońca rozpalona planeta był dotąd celem tylko jednej misji kosmicznej w latach i przeleciała trzykrotnie koło planety amerykańska sonda mariner \n",
      "\n",
      " 12  wahadłowiec discovery zacumował do międzynarodowej stacji orbitalnej iss dowożąc do niej nową załogę ktra spędzi w kosmosie cztery miesiące nową załogę stacji tworzą trzy osoby amerykanin frank culbertson jako dowdca oraz dwaj rosjanie inżynier pokładowy michaił tiurin i władimir usaczow ktry w razie konieczności nagłego opuszczenia stacji pilotowałby zacumowany do niej statek sojuz na pokładzie discovery powrci na ziemię dotychczasowa druga załoga iss \n",
      "\n",
      " 13  załoga wahadłowca atlantis ktra w sobotę zakończyła prace na pokładzie międzynarodowej stacji kosmicznej alfa przygotowuje się do powrotu na ziemię astronauci pięciu amerykanw w tym dowdca terrence wilcutt oraz dwaj rosjanie jurij malenczenko i boris morukow spędzili sześć dni na piętrowej stacji przygotowując ją do przyjęcia pierwszej stałej załogi na stacji rozmieszczono ponad trzy tony zapasw i sprzętu niezbędnego do jej zasiedlenia przez pierwszą stałą załogę w niedzielę astronauci zamykali włazw prowadzących do alfy w poniedziałek wczesnym rankiem atlantis opuści stację okrążając ją powoli dwukrotnie tak aby ośrodek kontroli lotw mgł dokonać wizualnej kontroli powrt atlantisa na ziemię planowany jest na środę wahadłowiec powinien wylądować na kosmodromie nasa na przylądku canaveral na florydzie atlantis wystartował stamtąd września pierwsza stała załoga wyruszy na stację października tego roku na pokładzie rosyjskiego statku sojuz dowdcą pionierskiej ekipy będzie amerykanin bill shepherd pilotem sojuza rosjanin jurij gidzenko zaś inżynierem pokładowym jego rodak siergiej krykalew obecnie alfa składa się z trzech głwnych elementw modułu kontrolnego zaria bloku unity oba umieszczono na orbicie pod koniec r i modułu mieszkalnego zwiezda ktry dołączył w lipcu tego roku unity dostarczyli partnerzy zachodni zwiezda jest wyłącznym dziełem rosjan zaś zaria to efekt wspłpracy rosji z innymi budowniczymi alfy \n",
      "\n",
      " 14  rosyjską rakietę sojuz ktrą wkrtce na międzynarodową stację kosmiczną iss poleci pierwsza stała załoga przetransportowano z hangaru na stanowisko startowe na kosmodromie bajkonur w kazachstanie jeśli wszystko pjdzie zgodnie z planem amerykanin bill shepherd oraz rosjanie jurij gidzenko i siergiej krikalow wyruszą na czteromiesięczną wyprawę w najbliższy wtorek a do nowej stacji orbitalnej zacumują w czwartek shepherd letni kapitan marynarki wojennej usa będzie pierwszym dowdcą iss przygotowywał się do tej roli prawie pięć lat o dwa lata dłużej niż planowano ponieważ rosjanie spźniali się z budową modułu z pomieszczeniami dla załogi stacji orbitalnej budowa stacji iss ma być ostatecznie ukończona w roku stacja stanie się nowoczesnym laboratorium kosmicznym mogącym przyjmować siedmioosobowe załogi \n",
      "\n",
      " 15  załoga międzynarodowej stacji kosmicznej dwaj rosjanie i amerykanin ktra co godziny krotnie okrąża ziemię razy wchodziła w wiek xxi i i krotnie cofała się do wieku xx \n",
      "\n",
      " 16  atomowy okręt podwodny kursk został zatopiony przez rakietę wystrzeloną przez rosyjski krążownik piotr wielki pisze niemiecki dziennik berliner zeitung w wydaniu piątkowym gazeta powołuje się na raport rosyjskiej federalnej służby bezpieczeństwa fsb do ktrego miał dotrzeć jej moskiewski korespondent raport komisji na czele ktrej stał szef fsb nikołaj patruszew kończy się konkluzją o zniszczeniu kurska przez rosyjską rakietę zgodnie z ustaleniami komisji krążownik piotr wielki wystrzelił sierpnia w ramach trwających wwczas ćwiczeń rakietę do zwalczania okrętw odwodnych granit wyposażoną w nowy typ głowicy poszukującej rakieta spenetrowała wody morskie na przestrzeni dwudziestu kilometrw po czym zarejestrowano wybuch po chwili nastąpił drugi wybuch obie detonacje zostały zaobserwowane z pokładu krążownika dowdztwo krążownika myślało z początku że drugi wybuch stanowił element ćwiczeń dopiero pźniej zrozumiano że pozycje kurska i rakiety granit dokładnie się pokrywały dziennik pisze że raport ten został przedstawiony prezydentowi putinowi sierpnia \n",
      "\n",
      " 17  dwa satelity ktre będą badać wpływ słońca na ziemię wystrzelono z kosmodromu bajkonur w kazachstanie \n",
      "\n",
      " 18  dwa satelity telekomunikacyjne wprowadziła na orbitę francuska rakieta kosmiczna ariane wystrzelona z bazy kourou w gujanie francuskiej \n",
      "\n",
      " 19  rosyjski statek kosmiczny progres z ważącym ponad tony ładunkiem przeznaczonym dla międzynarodowej stacji kosmicznej iss został wyniesiony na orbitę progress m zwany popularnie kosmiczną ciężarwką ma przycumować do stacji w środę \n",
      "\n",
      " 20  astronauci z wahadłowca atlantis rozpoczęli operację podwyższania orbity międzynarodowej stacji kosmicznej alfa kontynuują też naprawy wewnątrz stacji stacja krąży obecnie po orbicie na wysokości około kilometrw nad ziemią i z powodu podwyższonej aktywności słonecznej obniża się co tydzień o kilometra gdyby jakoś temu nie zaradzono do końca tego roku spadłaby na ziemię operacja podwyższania pułapu alfy będzie trwała trzy dni w nocy z wtorku na środę astronauci podwyższyli go o ok km podobny manewr wykonają jeszcze dwukrotnie ostatecznie orbita stacji ma być podwyższona do około kilometrw dotychczas astronauci wykonali ponad połowę z napraw zaplanowanych na pięć dni lotu wymienili dwa z sześciu akumulatorw ładowanych energią słoneczną astronauci rozpoczęli rwnież operację przeładowania z wahadłowca prawie tony zaopatrzenia wody paliwa tlenu i żywności dla przyszłej załogi stacji kosmicznej alfa częściowo zmontowana stacja alfa okrąża ziemię już od listopada roku ale do jej normalnego funkcjonowania niezbędne jest dołączenie rosyjskiego modułu mieszkalnego zwiezda po opźnieniach ma on ostatecznie wystartować na orbitę latem tego roku z kosmodromu bajkonur w kazachstanie \n",
      "\n",
      " 21  europejska rakieta ariane wystrzelona w środę z bazy w gujanie francuskiej wyniosła na orbitę kolejnego satelitę dla operatora telekomunikacyjnego eutelsat \n",
      "\n",
      " 22  naukowcom centrum kierowania lotami udało się przywrcić sterowność rosyjskiej stacji kosmicznej mir utraconą z powodu nagłego spadku napięcia w systemach energetycznych nie wiadomo co było jego przyczyną eksperci są zdania że stacja pracująca od lat na orbicie okołoziemskiej po prostu się wyeksploatowała \n",
      "\n",
      " 23  amerykańska agencja kosmiczna nasa uważa że ciało niebieskie sfotografowane w roku przez teleskop hubble wbrew wcześniejszym ocenom nie jest planetą spoza układu słonecznego lecz gwiazdą zaćmieniową podwjną \n",
      "\n",
      " 24  rosyjski statek transportowy progressm połączył się w sobotę z międzynarodową stacją kosmiczną iss i dostarczył na nią tony rżnych ładunkw poinformowano w podmoskiewskim centrum kierowania lotami kosmiczna ciężarwka wystartowała listopada z położonego w kazachstanie kosmodromu bajkonur połączenie statku progress z międzynarodową stacją nastąpiło z minutowym opźnieniem okazało się ono trudne gdyż nie można było dokonać automatycznego cumowania i trzeba było przejść na system ręczny progess dostarczył na stację paliwo rżne urządzenia części dla systemw zapewnienia normalnych warunkw życiowych i telewizyjnego a także żywność i wodę dla pierwszej długotrwałej rosyjskoamerykańskiej załogi iss \n",
      "\n",
      " 25  amerykański prom kosmiczny endeavour wystartował do dniowej misji orbitalnej ktrej celem jest sporządzenie najdokładniejszych jak dotąd trjwymiarowych map rżnych obszarw kuli ziemskiej wahadłowiec unisł się w przestrzeń z kosmodromu na przylądku canaveral na florydzie około godziny czasu lokalnego godz czasu warszawskiego pierwotnie misja kartograficzna była zaplanowana jeszcze na wrzesień ale odwlekły ją problemy techniczne i zła pogoda sześcioosobowa załoga endeavoura ma do dyspozycji radarowy rejestrator rzeźby powierzchni ziemi pierwszym zadaniem astronautw po wejściu na orbitę będzie umieszczenie anteny radaru na metrowym wysięgniku najdłuższej konstrukcji jaka kiedykolwiek pojawiła się w kosmosie \n",
      "\n",
      " 26  z kosmodromu bajkonur we wtorek rano o godzinie czasu polskiego wystartował statek kosmiczny sojuztm na ktrego pokładzie znajdują się kosmonauci udający się na stację orbitalną mir dwaj kosmonauci rosyjscy siergiej zaletin i aleksandr kaleri przeprowadzą na stacji orbitalnej konieczne remonty bezpośrednio po starcie obaj kosmonauci poinformowali centrum w bajkonurze że lot przebiega normalnie i czują się doskonale \n",
      "\n",
      " 27  z kosmodromu bajkonur w kazachstanie wystrzelono rakietę sojuz ze statkiem transportowym progress ma on ładunek paliwa konieczny dla bezpiecznego sprowadzenia z orbity stacji mir \n",
      "\n",
      " 28  po ośmiu dniach pobytu w kosmosie pierwszy kosmiczny turysta letni amerykański multimilioner dennis tito powrcił na ziemię w niedzielę rano o czasu warszawskiego kapsuła rosyjskiego statku sojuztm powracającego z międzynarodowej stacji kosmicznej iss targana silnym podmuchem wiatru wylądowała na spadochronie m od wyznaczonego miejsca na kazachskim stepie w pobliżu miejscowości arkałyk chwilę po wylądowaniu tito i dwaj kosmonauci tałgan musabajew i jurij baturin opuścili kapsułę to było miękkie lądowanie było ono bardzo podniecające powiedział blady i zmęczony lecz wyraźnie szczęśliwy tito ktrego poczęstowano jabłkiem narodowym symbolem kazachstanu jednak nie poradził sobie z owocem dodając że nie odwykł jeszcze od stanu nieważkości kosmicznego turystę podwieziono na wzku do helikoptera w przeciwieństwie do wyraźnie zrelaksowanych i będących w dobrej formie kosmonautw śmigłowiec zabrał całą trjkę do astany nowej stolicy kazachstanu na spotkanie z prezydentem nursułtanem nazarbajewem następnie odlecą do moskwy gdzie zostaną poddani dokładnym badaniom medycznym tito określił swoją podrż w kosomos jako niewiarygodne przeżycie \n",
      "\n",
      " 29  statek kosmiczny sojuz tm z pierwszym kosmicznym turystą multimilionerem z usa dennisem tito ktry towarzyszy dwm kosmonautom rosyjskiemu i kazachskiemu manewruje w kierunku międzynarodowej stacji iss rakieta nośna sojuzu ze statkiem sojuz tm wystartowała w sobotę o z kosmodromu bajkonur w kazachstanie po oddzieleniu się od sojuzau w minut po starcie sojuz tm rozpoczął dwudniową podrż do stacji alfa sojuz będzie mgł teoretycznie bez przeszkd przycumować w poniedziałek do stacji o godz czasu warszawskiego ponieważ amerykański prom kosmiczny endeavour z siedmioosobową załogą odłączył się od niej w niedzielę o czasu polskiego załoga sojuza jest w dobrej formie podały źrdła rosyjskie jeśli wszystko pjdzie dobrze endeavour wyląduje we wtorek w centrum kosmicznym im kennedyego na florydzie \n",
      "\n",
      " 30  przebywający w polskiej stacji polarnej na spitsberegenie pies mila zginął w nierwnej walce z białym niedźwiedziem poinformował pap kierownik xxiii wyprawy spitsbergeńskiej pan dr lucjan nowosielski mila towarzyszący od lat polskim ekipom w hornsundzie zastąpił drogę niedźwiedziowi ktry niespodziewanie wtargnął na teren stacji zagrażając innym psom i polarnikom mila zanim został rozszarpany przez niedźwiedzia zdołał ostrzec załogę stacji był to wyjątkowo agresywny niedźwiedź ktrego z najwyższym trudem odstraszono petardami i rakietami jeszcze przez kilka dni kręcił się w pobliżu stacji psy są pełnoprawnymi członkami polskich wypraw polarnych na spitsbergenie mają swoje etaty w pan i specjalny fundusz na wyżywienie i leczenie pierwsze z nich przybyły z polski obecne są potomkami psw sprowadzonych na spitsbergen w xix wieku od kilku lat obowiązuje zakaz przywożenia obcych psw i wykorzystuje się zwierzęta miejscowe \n",
      "\n",
      " 31  dwaj astronauci z amerykańskiego wahadłowca endeavour wyszli po raz drugi w przestrzeń kosmiczną by lepiej przymocować do międzynarodowej stacji kosmicznej iss nowe wielkie zdalnie sterowane ramię \n",
      "\n",
      " 32  pierwsza całkowicie prywatna rosyjska stacja kosmiczna ma zostać umieszczona na orbicie w jej zadaniem będzie przyjmowanie kosmicznych turystw turystyczna stacja orbitalna ma kosztować milionw usd budowę sfinansują przyszli kosmiczni turyści \n",
      "\n",
      " 33  polskie przyrządy wejdą w skład wyposażenia satelity intergral ktry zostanie wyniesiony na orbitę w kwietniu poinformował pap dyrektor centrum badań kosmicznych pan prof zbigniew kłos \n",
      "\n",
      " 34  satelita koronas f osiągnął zaplanowaną orbitę i rozpoczął program naukowy uruchamiane będą kolejno przyrządy w tym dwa polskie poinformował pap doc janusz sylwester z wrocławskiego zakładu fizyki słońca centrum badań kosmicznych pan \n",
      "\n",
      " 35  z przylądka canaveral wystartował prom kosmiczny endeavour ktry na międzynarodowej stacji kosmicznej iss na zainstalować olbrzymie warte miliard dolarw ramię robota instalacja ramienia robota na stacji iss będzie najbardziej jak dotąd skomplikowaną operacją przeprowadzoną w kosmosie \n",
      "\n",
      " 36  rakietę umożliwiającą lot na wysokość kilometrw nad ziemię dostępną w częściach do samodzielnego złożenia zamierza sprzedawać w niedalekiej przyszłości pewna amerykańska firma donosi najnowszy numer new scientist jeśli ktoś chce polecieć w kosmos i ma zbędne pł miliona dolarw to już za trzy lata będzie mgł kupić zestaw o nazwie kitten do samodzielnego złożenia z części rakiety kosmicznej twierdzi james hill szef firmy cerulean freight forwarding company z oroville w stanie waszyngton rakieta po samodzielnym złożeniu będzie mogła zabrać troje ludzi na wysokość km i będzie poruszać się z prędkością cztery razy większą od szybkości dźwięku km nie jest bardzo imponującą wysokością ale panuje tam stan nieważkości rakieta używająca silnikw zbudowanych z materiałw ceramicznych będzie napędzana mieszaniną metanu i ciekłego tlenu a chłodzona sprężonym ciekłym azotem jednocześnie napędzającym systemy hydrauliczne po osiągnięciu wysokości km pojazd zacznie lotem szybowcowym powoli powracać na ziemię \n",
      "\n",
      " 37  rosyjski atomowy okręt podwodny kursk został zniszczony przez wielki wybuch rwnoważny eksplozji od jednej do pięciu ton tnt poinformował pentagon wypowiadając się na temat informacji akustycznych zgromadzonych przez pewien okręt podwodny usa rzecznik ministerstwa obrony kenneth bacon podał że informacja taka została przekazana stronie rosyjskiej w ubiegłym tygodniu zdobyliśmy dowody dwch eksplozji mniejszej i większej ktre nastąpiły tuż po sobie powiedział rzecznik nie było kolizji z amerykańskim czy sojuszniczym okrętem podwodnym ani z inną jednostką tymczasem strona rosyjska dementuje doniesienia niemieckiej gazety o kursku informacja niemieckiej gazety berliner zeitung że rosyjski okręt podwodny kursk został zatopiony przez rakietę wystrzeloną z rosyjskiego krążownika piotr wielki jest wg rzeczniczki wicepremiera klebanowa całkowicie fałszywa \n",
      "\n",
      " 38  amerykański wahadłowiec kosmiczny atlantis ktry miał wystartować do kolejnego lotu kwietnia wymaga wymiany jednego z trzech silnikw rzecznik ośrodka kosmicznego imienia kennedyego na przylądku canaveral joe wells uzasadnił wymianę silnika obawami że mogą szwankować niklowe uszczelki w trzech pompach turbinowych ktre wtłaczają pod wysokim ciśnieniem do komory silnika płynny wodr defekt wykryto przed miesiącem w czasie rutynowej kontroli wahadłowca discovery po powrocie z grudniowej wyprawy na orbitę okazało się że jedna uszczelka została uszkodzona przez skrzydełka turbiny silnika co zagroziło bezpieczeństwu wahadłowca i astronautw wells poinformował że z powodu wymiany silnika kwietniowa misja atlantis będzie odroczona o kilka dni \n",
      "\n",
      " 39  nowozelandzka stacja antarktyczna scott base zostanie wkrtce wyposażona w dwa automaty z prezerwatywami stanie się to przed przybyciem nowych polarnikw ktrzy docierają na stację na antarktyczne wiosnę i lato latem na położonej na lodowcu szelfowym rossa stacji przebywa około osb \n",
      "\n",
      " 40  nowy tajny raport pentagonu o planowanym amerykańskim systemie obrony antyrakietowej nmd kwestionuje skuteczność tego systemu i realność jego rozmieszczenia w ciągu pięciu lat podaje niedzielny washington post raport wyraża sceptycyzm czy kluczowy element systemu tzw kill vehicle czyli urządzenie niszczące rakiety wroga będzie potrafiło odrżniać je od rakietatrap wystrzelonych dla zmylenia przeciwnika \n",
      "\n",
      " 41  istnieje pilna potrzeba opracowania procedury sprowadzania zużytych części statkw kosmicznych z powrotem na ziemię prawdopodobieństwo kolizji stacji orbitalnej iss z kosmicznym złomem wynosi proc alarmuje nasa \n",
      "\n",
      " 42  rosyjska rakieta protonk wystrzelona z kosmodromu bajkonur w kazachstanie wyniosła na orbitę wokłziemską amerykańskiego satelitę telekomunikacyjnego panamsat pas \n",
      "\n",
      " 43  zaprezentowali delegacji rosyjskiej koncepcje nowych stosunkw w zakresie bezpieczeństwa obie strony zgodziły się że na tak wczesnym etapie dyskusji lepiej robić to w tajemnicy by każda ze stron miała czas przyswoić sobie informacje przedstawione przez reprezentantw drugiej strony powiedział quigley eksperci uważają że strona amerykańska ujawni rosjanom szczegły dotyczące badań i prb z pociskami balistycznymi niszczącymi rakiety w locie a także broni laserowej ktra może niszczyć rakiety niedługo po ich wystrzeleniu jeśli w waszyngtonie uda się obu krajom wypracować zręby nowej stabilności strategicznej to jak oświadczyła kilka dni temu w wywiadzie dla ap doradczyni busha ds bezpieczeństwa narodowego condoleezza rice rosja będzie mogła kupować amerykańskie technologie rakietowe i uczestniczyć we wsplnych z usa planach obronnych \n",
      "\n",
      " 44  w weekend z przylądka canaveral na florydzie wystartowała rakieta delta z sondą kosmiczną ktra ma zbadać najstarszy we wszechświecie obiekt świetlny po wielkim wybuchu big bang wg naukowcw wielki wybuch dał początek czas przestrzeń materia wszechświatowi stało się to miliardw lat temu obiekt ktry ma zbadać sonda ma zdaniem naukowcw nasa pokazać obraz kosmosu jak wyglądał on tysięcy lat po wielkim wybuchu i dać odpowiedzi na fundamentalne pytania o wszechświecie jego powstaniu i przeznaczeniu jako pierwsi mikrofalowe promieniowanie tła cmb odkryli w roku arno penzias i robert wilson w laboratoriach w new jersey ma je właśnie badać wystrzelona z florydy sonda analiza cmb posiada wielkie znaczenie dla poznania ewolucji wszechświata promieniowanie to jest pozostałością po wysokoenergetycznych kwantach gamma spotykanych we wczesnym wszechświecie dotarcie do celu zajmie sondzie około czterech miesięcy dotrze na orbitę l jest to wg amerykańskiej agencji aeronautyki bardzo dobre miejsce na prowadzenie badań ponieważ znajduje się wystarczająco daleko od słońca i księżyca emitowanie przez nie mikrofale mogłyby bowiem zakłcić pomiary delikatnego sygnału cieplnego ktry jest wysyłany przez badany obiekt pomiary rozpoczną się w odległości miliona kilometrw od ziemi i potrwają miesięcy koszty misji szacuje się na milionw dolarw \n",
      "\n",
      " 45  minęły dwa lata od wprowadzenia w życie reformy emerytalnej wcześniej popierana teraz rozczarowuje aż proc polakw jest niezadowolonych z tego jak funkcjonuje system emerytalny wynika z najnowszych badań cbos tylko co czwarty polak jest zadowolony z nowego systemu emerytalnego są to głwnie ludzie młodzi między a rokiem życia ktrzy wchodzą do systemu obowiązkowo przeważnie są lepiej wykształceni i lepiej sytuowani materialnie charakterystyczne że ciągle słabo orientujemy się w temacie w r proc polakw nie znało nawet podstawowych zasad systemu emerytalnego w połowie r płtora roku po rozpoczęciu reformy tyle samo ludzi deklarowało słabe rozeznanie w zasadach działania zusu po reformie a ponad proc w zasadach uczestnictwa w funduszach emerytalnych teraz ok proc nie potrafi ocenić obecnego systemu dwukrotnie więcej pytanych jest zdania że obecny system działa teraz gorzej niż przed reformą niż tych ktrzy mają zdanie przeciwne \n",
      "\n",
      " 46  planowany przez amerykańskiego milionera udział w locie na międzynarodową stację kosmiczną stał się powodem sporu między amerykańską agencją kosmiczną ktra się na to nie zgadza a jej rosyjską odpowiedniczką multimilioner z kalifornii dennis tito gotw jest zapłacić mln dolarw za lot na rosyjskim sojuzie do stacji alpha ale nasa oraz przedstawiciele europejskiej agencji kosmicznej japonii i kanady pozostałych uczestnikw projektu nie zgodzili się na jego udział w szkoleniu przed lotem w ośrodku lotw kosmicznych w houston w odpowiedzi dwaj rosyjscy kosmonauci z sojuza demonstracyjnie odmwili uczestnictwa w zaplanowanym na wtorek treningu \n",
      "\n",
      " 47  w kosmodromie bajkonur w kazachstanie wystrzelono w niedzielę rakietę sojuzu ktra na orbitę okołoziemskš wyniosła dwa niemieckie sputniki ich celem będzie min badanie oddziaływania słonecznego na ziemię i jej pole magnetyczne \n",
      "\n",
      " 48  automatyczny system zablokował we wtorek nad ranem start rosyjskiej rakiety zenit ktra miała wynieść na orbitę amerykańskiego satelitę telekomunikacyjnego \n",
      "\n",
      " 49  osoby z załg samolotw są bardziej zagrożone rozwojem białaczki winne jest promieniowanie kosmiczne \n",
      "\n",
      " 50  załoga promu kosmicznego discovery przygotowuje się do połączenia ze znajdującą się na orbicie międzynarodową stacją kosmiczną iss \n",
      "\n",
      " 51  w dniach  grudnia w warszawie odbywać się będzie kongres kultury polskiej podczas ktrego naukowcy twrcy politycy dziennikarze i nauczyciele dyskutować mają o problemach narodowej kultury u progu xxi wieku poprzedni zwołany w roku siłami opozycji solidarnościowej przez komitet porozumiewawczy stowarzyszeń twrczych i naukowych przerwany został po dwu dniach z powodu wprowadzenia przez władze prl stanu wojennego tegoroczny kongres poświęcony będzie nowym zadaniom ktre stają przed polską kulturą u progu xxi wieku chodzi przede wszystkim o zacieśnianie więzi z kulturami innych narodw w szczeglności należących do ue tak aby nie osłabiło to tożsamości własnej kultury \n",
      "\n",
      " 52  astronauci z promu kosmicznego discovery odbyli ostatni czwarty już spacer w otwartej przestrzeni kosmicznej japoński kosmonauta koichi wakata oraz dwch amerykanw jeff wisoff i michael lopezalegria testowali małe silniki odrzutowe o nazwie safer mają one służyć kosmonautom w razie wypadku gdyby odpadła lina łącząca ich z promem kosmicznym lub międzynarodową stacją kosmiczną iss testy nowych silniczkw wypadły pomyślnie w sumie kosmonauci z promu discovery spędzili podczas czterech spacerw godzin w otwartej przestrzeni kosmicznej w tym czasie min zamontowali nieduży nowy moduł iss zawiera on żyroskopy oraz urządzenia przeznaczone do utrzymywania łączności z ziemią prom discovery powinien powrcić na ziemię w niedzielę wieczorem \n",
      "\n",
      " 53  z przyczyn budżetowych amerykańska agencja kosmiczna nasa odroczyła na czas nieokreślony wysłanie w przestrzeń statku kosmicznego do badania klimatu na ziemi ktrego pomysł wysunął swego czasu były wiceprezydent al gore pojazd nazwany traina od nazwiska żeglarza na statku kolumba ktry pierwszy dojrzał brzeg ameryki na ktrego budowę wydano milionw dolarw miał być wyniesiony w kosmos na pokładzie jednego z wahadłowcw kosmicznych w tym roku \n",
      "\n",
      " 54  prom kosmiczny atlantis na pokładzie ktrego znajduje się sześciu astronautw amerykańskich i kosmonauta rosyjski jurij usaczow połączył się z miedzynarodową stacją kosmiczną alfa nasa poleciła załodze wahadłowca niekorzystanie z jednego z dwch silnikw stosowanych do manewrw na orbicie ponieważ najprawdopodobniej zaciął się w nim zawr \n",
      "\n",
      " 55  rosja zamierza wystrzelić w tym roku w kosmos statkw kosmicznych rżnego typu poinformowano w środę w tej liczbie są loty w ramach tzw federalnego programu kosmicznego jak i programu międzynarodowej wspłpracy w kosmosie w spisie nie uwzględniono wyprowadzania na orbitę obiektw przeznaczenia militarnego \n",
      "\n",
      " 56  letni amerykanin dennis tito pierwszy na świecie kosmiczny turysta znalazł się w poniedziałek na międzynarodowej stacji orbitalnej iss przeszedł na nią ze statku sojuz ktrym przyleciał z ziemi w poniedziałek rano rosyjski statek kosmiczny sojuz tm przycumował do stacji dennisowi tito towarzyszy dwch kosmonautw dowdca statku tałgat musabajew i inżynier pokładowy jurij baturin były doradca prezydenta rosji do spraw bezpieczeństwa uczestnictwo amerykańskiego miliardera w tygodniowej wyprawie na stację iss wywołało kontrowersje między amerykanami a rosjanami ktrzy zarabiają na tej podrży najprawdopodobniej mln dolarw przeciwko udziałowi tito w locie protestowała przede wszystkim nasa według ktrej rosyjska zgoda na sprzedaż biletu w kosmos była jednostronna i podjęta bez niezbędnych konsultacji z pozostałymi użytkownikami iss letni tito z pochodzenia włoch nie jest nowicjuszem w kwestiach kosmicznych ukończył studia z zakresu inżynierii kosmicznej pracował w laboratorium nasa w kalifornii był członkiem zespołu opracowującego trajektorie lotu sond wysyłanych w kierunku marsa i wenus był także specjalistą odpowiedzialnym za misję sondy mars mariner w latach założył firmę doradczoinwestycyjną ktra przyniosła mu wielkie pieniądze i doprowadziła do spełnienia jego największego marzenia lotu w kosmos \n",
      "\n",
      " 57  rakieta klasy ziemiapowietrze średniego zasięgu wysokości trzypiętrowego domu oraz wojskowy zestaw polowy do pieczenia chleba zostaną zlicytowane podczas ix finału śląskiej orkiestry świątecznej pomocy w najbliższą niedzielę radziecki letni obecnie przeciwlotniczy zestaw rakietowy wołchow służył kiedyś do zestrzeliwania samolotw szpiegowskich u to pierwsza rakieta wystawiona w polsce na publiczną licytację zdecydowaliśmy się przekazać ją orkiestrze ponieważ likwidujemy nadwyżki sprzętu nie chcieliśmy jej po prostu oddawać na złom tym bardziej że może być bardzo atrakcyjną zdobyczą dla kolekcjonera powiedział pap major michał duda szef logistyki jednostki śląskiej brygady rakietowej do ktrej należała rakieta podczas ćwiczeń zestrzeliwaliśmy nią z dużych odległości cele o długości metrw i średnicy cm dodał rakieta ma m długości waży ok tys kg wyrzutnia waży ton rakiety nie może wystrzelić ponieważ zestaw pozbawiono cech bojowych materiałw wybuchowych i napędowych wojskowy zestaw polowy do pieczenia chleba przekazał wrocławski oddział terenowy agencji mienia wojskowego polowa piekarnia wraz z piecem obrotowym oraz ciastownią miejscem usytuowanym na starze gdzie przygotowuje się ciasto na chleb choć ma lata to w ciągu godziny wypieka chlebw w piekarni można wypiekać nie tylko płtorakilogramowe bochny ale i przesiewać mąkę piec kurczaki grillować suszyć owoce i grzyby a nawet piec pączki \n",
      "\n",
      " 58  dwaj rosjanie i amerykanin wystartowali z kosmodromu bajkonur w kierunku międzynarodowej stacji kosmicznej iss ich ekspedycja obwieszcza nową erę w historii badań kosmicznych amerykanin william bill shepherd i dwaj rosjanie jurij gidzenko oraz siergiej krikalow wystartowali ze stanowiska numer jeden tego samego skąd lat temu wyruszył w kosmos pierwszy człowiek jurij gagarin załoga ma pozostać na stacji przez prawie cztery miesiące gdy podrżnicy znajdą się na stacji co ma nastąpić w czwartek zajmą zbudowany przez rosję moduł mieszkalny o nazwie zwiezda ktry wcześniej został wysłany z bajkonuru w tworzeniu iss uczestniczy kilkanaście państw gdy budowa stacji zostanie zakończona obiekt ma być najjaśniejszym punktem na nocnym niebie ktry będzie widać nieuzbrojonym okiem \n",
      "\n",
      " 59  po blisko dwch latach zastoju w budowie międzynarodowej stacji kosmicznej rosyjska rakieta proton wyniosła na orbitę wokłziemską kluczowy moduł stacji nazwany zwiezda \n",
      "\n",
      " 60  nowy krl nepalu gyanendra ogłosił w poniedziałek utworzenie komisji śledczej wysokiego szczebla ktra w ciągu trzech dni ma ustalić okoliczności masakry w pałacu krlewskim jak tylko komisja sporządzi raport cała prawda zostanie wyjawiona narodowi zapewnił krl w wystąpieniu telewizyjnym koronacji letniego gyanendry towarzyszyły w poniedziałek gwałtowne zamieszki demonstranci skandowali wrogie mu hasła niektrzy oskarżali o dokonanie zamachu jego jedynego syna i żądali by opuścił kraj podczas zamieszek zginęły dwie osoby w katmandu wprowadzono godzinę policyjną do spokoju wezwał premier girija prasad koirala w pałacu zginęli w piątek krl birendra krlowa aishwarya i sześcioro innych członkw rodziny następca tronu letni dipendra został śmiertelnie ranny i zmarł w poniedziałek rwnież w poniedziałek zmarła ostatnia ofiara masakry najmłodszy brat zamordowanego birendry noszący tak jak bratanek imię dipendra o wymordowanie rodziny obwiniono z początku następcę tronu ktry po wymordowaniu jej miał rzekomo podjąć prbę samobjstwa pźniej jednak ogłoszono że wydarzenia w pałacu to wynik nieszczęśliwego wypadku gdy dipendra leżał w śpiączce ogłoszono go krlem a regencję objął jego stryj gyanendra koronowany w poniedziałek po śmierci bratanka \n",
      "\n",
      " 61  w końcowej fazie manewru spotkania siedmioosobowa załoga discovery utraciła na skutek usterki łączność radiową z ziemią a rolę pośrednika w kontach z kontrola naziemną musiał przejąć dowdca dotychczasowej załogi iss bill shepherd po około godzinie przywrcono łączność bezpośrednią amerykanim shepherd oraz dwaj radzieccy kosmonauci siergiej krikalow i jurij gidzenko przebywają na pokładzie iss od listopada ubiegłego roku jako jej pierwsza stała załoga discovery zabierze ich na ziemie a stację obejmie nowa ekipa amerykanka susan helms jej rodak james voss i rosyjski dowdca jurij usaczow dwoje amerykańskich astronautw james voss i susan helms odbyło w niedzielę najdłuższy w historii światowej kosmonautyki spacer w przestrzeni kosmicznej poza statkiem w otwartej przestrzeni kosmicznej spędzili oni godzin minut astronauci pracowali w miejscach w ktrym do międzynarodowej stacji kosmicznej iss ma być przyłączony włoski moduł transportowy leonardo oraz umocowane anteny poprawiające łączność z ziemią \n",
      "\n",
      " 62  dennis tito amerykański milioner ktry będzie pierwszym turystą w kosmosie zgodził się zapłacić za wszystko co ewentualnie uszkodzi podczas lotu i nie przeszkadzać pozostałym uczestnikom wyprawy amerykańska agencja kosmiczna nasa poinformowała że tito podpisał amerykański kodeks postępowania członkw załogi oraz podobne regulacje rosyjskie w ktrych to dokumentach wyszczeglnione są jego obowiązki i ograniczenia jako uczestnika wyprawy za podrż i sześciodniowy pobyt na stacji tito zapłacił rosjanom mln dolarw \n",
      "\n",
      " 63  dwaj astronauci promu atlantis wyszli w przestrzeń kosmiczną by przeprowadzić prace wykończeniowe kosmicznego laboratorium naukowego na międzynarodowej stacji alpha podało centrum kosmiczne w houston \n",
      "\n",
      " 64  z kosmodromu w plesiecku odpalono rosyjską rakietę nośną kosmosm z amerykańskim satelitą quick bird \n",
      "\n",
      " 65  amerykański prom kosmiczny discovery wylądował na florydzie wahadłowcem powrciła na ziemię pierwsza załoga międzynarodowej stacji kosmicznej iss pracowała na orbicie miesiąca \n",
      "\n",
      " 66  pierwszy na świecie kosmiczny turysta amerykański milioner dennis tito przygotowuje się do wycieczkowego lotu na rosyjską stację mir jak podała agencja itartass milioner z kalifornii pośpiesznie przechodzi w gwiezdnym miasteczku pod moskwą badania lekarskie i szkolenie przed wyruszeniem w kosmos z podanych w nowym jorku informacji wynika że pierwszy kosmiczny turysta poleci na wysłużoną stację mir wiosną przyszłego roku \n",
      "\n",
      " 67  amerykański radioteleskop kosmiczny hubblea wykrył ślady wodoru ktry powstał w okresie narodzin wszechświata a następnie rozproszył się w przestrzeni międzygwiezdnej \n",
      "\n",
      " 68  wczoraj z kosmodromu bajkonur w kazachstanie wystartował bezzałogowy rosyjski statek towarowy progress m z zapasami paliwa żywności i sprzętu dla budowanej na orbicie międzynarodowej stacji kosmicznej alfa kosmiczna ciężarwka dostarczy na alfę ponad tonę paliwa i tlenu aparaturę do oczyszczania i kontrolowania jakości powietrza agregaty do podgrzewania wody a także filtry i narzędzia \n",
      "\n",
      " 69  rosja wprowadziła na orbitę wokłziemską satelitę telekomunikacyjnego przy użyciu rakiety proton tego samego typu ktry ma być w lipcu wykorzystany do umieszczenia w kosmosie modułu międzynarodowej stacji orbitalnej \n",
      "\n",
      " 70  z kosmodromu bajkonur w kazachstanie pomyślnie wystartowała rosyjska rakieta proton wynosząc na orbitę wokłziemską trzy wojskowe satelity nawigacyjne systemu głonass \n",
      "\n",
      " 71  rosyjska rakieta proton wystrzelona z kosmodromu w bajkonurze wyniosła w sobotę na orbitę amerykańskiego satelitę telekomunikacyjnego był to kolejny z serii pomyślnych lotw protona po pechowym zeszłym roku gdy dwie rakiety rozbiły się nad kazachstanem \n",
      "\n",
      " 72  z przylądka canaveral na florydzie wyniesiony został nowy satelita pogodowy nasa o nazwie goesm w przeciwieństwie do swoich poprzednikw będzie go interesować nie tylko pogoda na ziemi ale także burze na słońcu geostationary operational enviromental satellite goesm został wyniesiony na orbitę lipca o godz naszego czasu przez rakietę lockheed martin altas ii \n",
      "\n",
      " 73  chiny wprowadziły na orbitę bezzałogową stację kosmiczną shenzhou ii w ramach programu zmierzającego do wysłania kosmonautw w przestrzeń kosmiczną stacja shenzhou ii zbudowana w chinach została wyniesiona na orbitę przez rakietę długi marsz ii f wystrzeloną w środę o godz czasu pekińskiego z poligonu w płnocnozachodnich chinach \n",
      "\n",
      " 74  pierwszy niepodważalny dowd na to że galaktyki spiralne otoczone są ogromnym halo składającym się z bardzo gorącego gazu dostarczyły obserwacje wykonane teleskopem kosmicznym hubblea i satelitą rentgenowskim chandra \n",
      "\n",
      " 75  dwaj członkowie załogi wahadłowca discovery wyszli w czwartek w otwartą przestrzeń kosmiczną by umocować do kadłuba międzynarodowej stacji kosmicznej iss kasety z materiałami poddawanymi badaniom odpornościowym \n",
      "\n",
      " 76  dwch astronautw z siedmioosobowej załogi wahadłowca atlantis przebywało w otwartej przestrzeni kosmicznej by przeprowadzić drobne naprawy urządzeń montowanej na orbicie międzynarodowej stacji kosmicznej alfa \n",
      "\n",
      " 77  stany zjednoczone proponują stworzenie systemu obrony przeciwrakietowej ktry zdolny byłby przechwytywać rakiety wystrzelone z takich krajw jak irak czy korea płnocna amerykanie twierdzą że inicjatywa ma służyć nie tylko im ale i pozostałym krajom sojuszu \n",
      "\n",
      " 78  wyjście unii wolności z rządu zwiększy nerwowość na rynku ale w długim okresie jeśli aws zgodzi się na zaostrzenie polityki fiskalnej może być pozytywnie odebrane przez rynek uważają analitycy pytani przez pap zdaniem katarzyny zajdel analityka citibank decyzja unii wolności wpłynie w najbliższych dniach na większą nerwowość na rynku w poniedziałek na pewno zwiększy to nerwowość na rynku i przełoży się na większą zmienność kursu złotego jej zdaniem część inwestorw brała jednak pod uwagę taki scenariusz wydarzeń i częściowo już zdyskontowała niedzielną decyzję uw niemniej każda informacja dotycząca przebiegu wydarzeń w koalicji będzie rzutować teraz na rynek marcin mrz analityk woodcompany uważa że wiadomość o opuszczeniu rządu przez uw początkowo będzie odebrana bardzo negatywnie przez rynek efekt będzie widoczny i dla złotego i dla rynku papierw wartościowych jego zdaniem w poniedziałek można oczekiwać zarwno osłabienia złotego jak i spadkw na giełdzie jednak ostateczny efekt działań unii wolności może być bardzo korzystny dla rynku ministerstwo finansw zaproponowało obniżenie deficytu fiskalnego w roku do proc pkb z proc projektowanych w budżecie na ten rok mrz spodziewa się że w dłuższy okresie ponowne wejście uw do rządu lub nawet utworzenie mniejszościowego rządu aws z poparciem uw będzie miało pozytywne skutki bo może doprowadzić do zaostrzenia polityki fiskalnej a w konsekwencji do zmniejszenia deficytu na rachunku obrotw bieżących także amerykański bank inwestycyjny salomon smith barney uważa że pogłębienie się kryzysu rządowego w polsce negatywnie odbije się na złotym ssb uważa że wynikiem możliwego rozpadu koalicji rządzącej awsuw może być paraliż polityczny w średnim okresie czasu ktry stałby się podłożem kryzysu walutowego analitycy ssb nie wykluczają że zerwanie koalicji awsuw może utorować drogę do powstania koalicji slduw przyszły rząd slduw gdyby powstał z pewnością miałby mocniejszą pozycję niż obecna koalicja przynisłby potrzebną polsce stabilizację i w sprzyjających warunkach wprowadziłby kraj do unii europejskiej francuski societe generale w swojej publikacji z maja upublicznionej w piątek uważa że przedterminowe wybory są coraz bardziej prawdopodobne nawet jeśli koalicja awsuw zdoła rwnież i tym razem rozładować polityczny kryzys \n",
      "\n",
      " 79  dwaj astronauci z wahadłowca endeavour amerykanin scott parazynski i kanadyjczyk chris hadfield zainstalowali w niedzielę na międzynarodowej stacji kosmicznej iss gigantyczne ramię robota ma ono być wykorzystywane przy dalszej rozbudowie stacji wczesnym popołudniem parazynski i hadfield wyszli w otwarty kosmos i przebywali tam przez siedem godzin o pł godziny dłużej niż początkowo planowano zadanie wykonane przez astronautw spotkało się z uznaniem w centrum kierowania lotami dla uczczenia pierwszego zakończonego sukcesem wyjścia w kosmos kanadyjskiego astronauty hadfieldowi puszczono z ziemi hymn kanady nagrany w czasie meczu hokejowego w montrealu zainstalowany w niedzielę liczący prawie metrw długości i ważący tony wysięgnik nowej generacji canadarm kosztował prawie miliard dolarw i będzie pełnić rolę swoistego żurawia poruszającego się po powierzchni stacji kosmicznej i montującego tam kolejne jej moduły prom kosmiczny endeavour z siedmioosobową załogą na pokładzie zacumował do iss w sobotę poza cennym i wielkim wysięgnikiem załoga wahadłowca czterech amerykanw rosjanin włoch i kanadyjczyk przywiozła na stację rwnież inny sprzęt techniczny i żywność \n",
      "\n",
      " 80  miniaturowy satelita skonstruowany przez brytyjskich naukowcw ma oczyścić orbitę okołoziemską z kosmicznego złomu powiedział bbc twrca projektu craig underwood nowy satelita snap waży jedynie kg i mierzy cm wybudowany został w anglii przez surrey satellite technology swoją pierwszą misję rozpocznie czerwca wystrzelony z kosmodromu w rosji snap zaopatrzony jest w cztery kamery mające za zadanie lokalizować resztki złomu satelita po przejęciu celu doprowadzi do wytracenia przez niego prędkości złom zacznie więc powoli opadać spalając się w atmosferze ziemskiej pojazdmatka transportujący na orbitę oprcz snap także chińskiego mikrosatelitę i rosyjskiego satelitę wojskowego wystartuje z kosmodromu plesetsk w rosji snap zostanie umieszczony na wysokości km po latach intensywnej eksploatacji kosmosu wokł ziemi oprcz szczątkw wyeksploatowanych satelitw i statkw kosmicznych krążą człony nośne rakiet i odrzucone zbiorniki paliwa poruszają się one ze średnią prędkością tys kmh zinwentaryzowano już ponad tys rżnych obiektw o wielkości powyżej cm gdyż tylko takie można zlokalizować i wykryć mniejszych odpadkw jest kilkaset tysięcy \n",
      "\n",
      " 81  firma arianespace poinformowała że jej rakieta ariane wystrzelona z bazy w kourou w gujanie francuskiej wyniosła w przestrzeń kosmiczną amerykańskiego satelitę telekomunikacyjnego galaxyiv r satelita wyposażony w przekaźnikw nadających w dwch pasmach będzie przez lat obsługiwać sieci telewizyjne i firmy internetowe oraz transmitować dane na obszarze całej ameryki zastąpi kończącego służbę satelitę galaxyiv satelity z serii galaxy należą do amerykańskiego towarzystwa panamsat ktre w minionych latach razy korzystało z francuskich rakiet ariane przy ekspedycji tych aparatw w kosmos \n",
      "\n",
      " 82  wahadłowiec atlantis po dniach przebywania w przestrzeni kosmicznej wylądował na ziemi \n",
      "\n",
      " 83  przyczyną zerwania na godziny kontaktu z rosyjską stacją kosmiczną mir była utrata czujności przez specjalistw na ziemi poinformował dyrektor ośrodka kosmicznego w ktrym skonstruowano stację anatolij kisielow \n",
      "\n",
      " 84  brazylia udostępni bazę wyrzutni rakiet kosmicznych alcantara w stanie maranhao amerykańskim kompaniom w celu wysyłania stamtąd w kosmos cywilnych satelitw ziemi alcantara leży na rwniku panują tam więc najlepsze warunki techniczne do wystrzeliwania rakiet z satelitami meteorologicznymi i telekomunikacyjnymi wysyłane stamtąd rakiety napotykają na słabsze działanie ziemskiego pola grawitacyjnego niż w przypadku startu z innych baz mogą więc szybciej dotrzeć na zaplanowaną orbitę negocjacje w sprawie zgody na korzystanie przez amerykanw z bazy alcantara trwały ponad pięć lat zainteresowanie tym ośrodkiem wyraża szereg amerykańskich kompanii wykorzystujących technikę satelitarną \n",
      "\n",
      " 85  władze czeskie wprowadziły zakaz importu francuskiej i portugalskiej wołowiny w ramach ochrony przed chorobą szalonych krw \n",
      "\n",
      " 86  lat temu kwietnia roku na zlecenie narodowej administracji oceanw i atmosfery noaa wystrzelono z cape canaveral pierwszego na świecie satelitę meteorologicznego tiros \n",
      "\n",
      " 87  rosja wystrzeliła we wtorek rakietę protonk ktra wyniosła na orbitę amerykańskiego satelitę telekomunikacyjnego cd radio cd radio będzie obsługiwać sieć sirius satelitte radio ktra ma zacząć działać do końca roku dzięki niej amerykański radiosłuchacz jadąc samochodem z jednego końca kraju na drugi będzie mgł przez cały czas słuchać ulubionej stacji nie gubiąc sygnału \n",
      "\n",
      " 88  rakieta taurus wystrzelona w niedzielę z bazy lotnictwa wojskowego vandenberg w kalifornii wyniosła na orbitę satelitę mti ktry będzie przez trzy lata obserwował zmiany fal elektromagnetycznych w atmosferze ziemi \n",
      "\n",
      " 89  rakieta ariane wystrzelona w nocy z czwartku na piątek z kosmodromu na gujanie francuskiej nie zdoła wynieść na właściwą orbitę dwch satelitw telekomunikacyjnych \n",
      "\n",
      " 90  niepowodzeniem zakończyła się prba umieszczenia na orbicie okołoziemskiej amerykańskiego satelity badawczego wystrzelonego z kosmodromu w rosyjskim plesiecku jak poinformowała rosyjska agencja kosmiczna ostatecznie stracono amerykańskiego satelitę badawczego quick bird ktry w nocy z poniedziałku na wtorek został wyniesiony na orbitę okołoziemską przez rosyjską rakietę nośną kosmosm rakieta została wystrzelona z rosyjskiego kosmodromu w plesiecku amerykański satelita miał z orbity okołoziemskiej prowadzić badania powierzchni ziemi przyczyny straty satelity bada specjalna komisja pod kierownictwem szefa kosmodromu w plesiecku gen giennadija kowalenki służba prasowa rosyjskich rakietowych wojsk strategicznych informowała wcześniej że satelita po wejściu na orbitę nie wysłał w ustalonym terminie sygnałw radiowych według agencji interfax powołującej się na anonimowe źrdła w rosyjskiej agencji kosmicznej drugi człon rakiety nośnej odpadł zbyt wcześnie i satelita prawdopodobnie wpadł w atmosferę ziemską zleceniodawcą wystrzelenia satelity była amerykańska firma ers watch amerykańskie firmy często korzystają z rosyjskich kosmodromw do wystrzeliwania satelitw komercyjnych \n",
      "\n",
      " 91  załoga amerykańskiego wahadłowca discovery ktry przycumował do budowanej na orbicie międzynarodowej stacji kosmicznej alfa przymocowała do niej nowy segment ważący dziewięć ton blok aluminiowy z czterema żyroskopami i dwiema antenami \n",
      "\n",
      " 92  izraelskie ministerstwo obrony ogłosiło w niedzielę listę siedmiu najbardziej poszukiwanych palestyńskich terrorystw ktrzy kontynuują bez przeszkd ataki przeciwko izraelowi dzieje się tak podkreśla ministerstwo mimo iż izrael zwracał się do władz palestyńskich o ich zatrzymanie na parę godzin przed opublikowaniem listy palestyński zamachowiec wysiadł z samochodu przed gmachem ministerstwa obrony w tel awiwie i oddał serię strzałw do wartownikw lekko raniąc dziesięciu żołnierzy sam został śmiertelnie ranny gdy prbował odjechać z miejsca zamachu w niedzielę izraelski premier ariel szaron ponownie odrzucił żądanie społeczności międzynarodowej ktra coraz bardziej stanowczo domaga się rozmieszczenia na terenach autonomii palestyńskiej obserwatorw międzynarodowych palestyński przywdca jaser arafat w depeszach skierowanych do czołowych mężw stanu na świecie poprosił w niedzielę o natychmiastową interwencję w celu położenia kresu izraelskiej agresji tymczasem izraelskie helikoptery dokonały kolejnego ataku rakietowego na obiekt należący do palestyńskich sił porządkowych w strefie gazy komendant sil palestyńskiego bezpieczeństwa narodowego fauzi zaakuk i jego wspłpracownicy ocaleli ponieważ wybiegli z budynku gdy tylko usłyszeli nadlatujące śmigłowce w tulkarem natomiast zginął członek islamskiego ruchu oporu hamas letni al hadri ktrego samochd zniszczyły trzy rakiety wystrzelone z izraelskich śmigłowcw szturmowych \n",
      "\n",
      " 93  europejska agencja kosmiczna planuje wysłać za pomocą dwch rosyjskich rakiet sojuz na okołoziemską orbitę cztery sondy kosmiczne o nazwie cluster ii ich zadaniem będzie badanie zasięgu i oddziaływania pola magnetycznego wytwarzanego przez ziemię tzw magnetosfery pierwsza z rakiet z dwiema sondami na pokładzie powinna wystartować lipca kolejne dwie sondy polecą sierpnia \n",
      "\n",
      " 94  z bazy kosmicznej kourou w gujanie francuskiej wystrzelono zachodnioeuropejską rakietę ariane ktra wyniosła na orbitę dwa satelity telekomunikacyjne rakieta wzniosła się w powietrze zgodnie z harmonogramem o czasu miejscowego w piątek czasu polskiego jest to szste wystrzelenie tego typu ciężkiej rakiety nośnej nowej generacji i zarazem trzecie z ładunkiem komercyjnym satelity ktre umieściła na orbicie zapewnią połączenia telekomunikacyjne między europą stanami zjednoczonymi i karaibami wystrzelenie miało nastąpić początkowo w lipcu jednak zostało przesunięte na termin pźniejszy po wykryciu defektu w systemie napędowym ariane przeznaczona do wynoszenia na orbitę dużych płatnych ładunkw ma za sobą lata trudnych prb jej pierwszy lot testowy w roku zakończył się eksplozją a pierwszy udany lot komercyjny nastąpił dopiero w ubiegłym roku \n",
      "\n",
      " 95  w centrum badań kosmicznych pan zbudowano polskie urządzenie zasilacz aparatury naukowej ktre znajdzie się na francuskim satelicie geofizycznym demeter start satelity przewidziany jest w roku \n",
      "\n",
      " 96  polscy uczeni będą uczestniczyli w opracowywaniu oraz interpretacji informacji uzyskanych dzięki pracy sond cluster ii dostarczą one danych min na temat wpływu pola magnetycznego ziemi na klimat obradujący w warszawie międzynarodowy kongres cospar zbiegł się w czasie z ważnym wydarzeniem naukowym rozpoczęciem europejskiego programu cluster ii udany start dwch spośrd czterech satelitw cluster ii to ważne i szczęśliwe wydarzenie ktre dobrze wrży obradom kongresu skomentował sukces europejskiej agencji kosmicznej prezydent cospar prof gerhard haerendel program cluster ii obejmuje badania przy pomocy czterech satelitw ziemskiej jonosfery i magnetosfery oraz ich oddziaływania z tzw wiatrem słonecznym składa się on głwnie z niosących wysoką energię cząstek protonw i elektronw wyrzucanych w przestrzeń kosmiczną przez słońce są one bardzo niebezpieczne dla życia ale przed wiatrem słonecznym chroni nas min ziemskie pole magnetyczne jest to już druga prba realizacji tego programu pierwsza skończyła się niepowodzeniem gdy w r satelity cluster i eksplodowały podczas startu francuskiej rakiety ariane \n",
      "\n",
      " 97  prezydent rosji władimir putin wprowadził zakaz wywozu z kraju rakiet ktre mogą przenosić co najmniej płtonowe ładunki użyteczne na odległość przynajmniej km podała agencja itartass dekret w tej sprawie wchodzi w życie po trzech miesiącach od dnia opublikowania itartass napisał że oprcz rakiet o zasięgu od km na czarnej liście są poszczeglne człony rakiet i silniki bezpilotowe aparaty latające systemy naprowadzania na cel i urządzenia pokładowe kontroli podlegają także pewne paliwa rakietowe i ich części składowe a ponadto sprzęt i technologia produkcji kompozytw i włkien używanych do budowy rakiet \n",
      "\n",
      " 98  wystrzelona z platformy morskiej na pacyfiku rosyjskoukraińska rakieta zenit wyniosła na orbitę wokłziemską arabskiego satelitę telekomunikacyjnego \n",
      "\n",
      " 99  prom kosmiczny atlantis zakończył trzynastodniową wyprawę na międzynarodową stację kosmiczną iss i o godz czasu lokalnego we wtorek czasu warszawskiego w środę wylądował w centrum kosmicznym im jfkennedyego na florydzie złe warunki atmosferyczne spowodowały że powrt atlantisa z pięcioosobową załogą na pokładzie na ziemię został opźniony o jeden dzień w trakcie wyprawy załoga wahadłowca wykonała głwne zadanie misji ktrym było dowiezienie i zamontowanie na iss ważącej sześć i pł tony śluzy powietrzenej w trakcie prac nastąpiły dwa przecieki w systemach śluzy najpierw wody chłodzącej a potem sprężonego powietrza zbudowana kosztem mln dolarw śluza może obsługiwać astronautw ubranych zarwno w skafandry amerykańskie jak i rosyjskie skafandry amerykańskie są obszerniejsze i nie mieszczą się w dotychczasowej dostarczonej przez rosjan śluzie wejściowej dlatego załoga stacji mogła dotąd wychodzić w otwartą przestrzeń kosmiczną tylko w bardziej obcisłych skafandrach rosyjskich w dwch zamontowanych zbiornikach przechowywany będzie tlen a w jednym azot ktre będą wpuszczane do śluzy po wejściu tam astronautw i jej zamknięciu by uzyskać wyrwnanie ciśnienia względem wnętrza stacji \n",
      "\n",
      " 100  stanom zjednoczonym nie powiodła się w sobotę rano prba zniszczenia na wysokości około kilometrw nad ziemią głowicy bojowejatrapy pocisku balistycznego minuteman przez rakietę przechwytującą wystrzeloną z atolu kwajalein nie zdołaliśmy przechwycić minionej nocy głowicy bojowej jesteśmy rozczarowani powiedział w sobotę na konferencji prasowej w pentagonie generał ronald kadish szef obronnego programu rakietowego kolejną prbę rakiety przechwytującej planowano przeprowadzić jesienią tego roku teraz jednak według kadisha staje się to nieco problematyczne najprawdopodobniej harmonogram prac nad systemem obrony przeciwrakietowej zostanie przesunięty przypuszcza się że ostateczna decyzja w tej sprawie podjęta będzie nie wcześniej niż w listopadzie \n",
      "\n",
      " 101  przedstawicielka amerykańskiej agencji kosmicznej nasa opowiedziała w przygotowanym przez bbc programie o zagrożeniu jakie dla życia astronautw stworzył w roku haker elektroniczny włamywacz dostał się do systemu komputerowego monitorującego parametry życiowe załogi promu kosmicznego podczas operacji cumowania do rosyjskiej stacji orbitalnej mir powiedziała roberta gross inspektor generalny nasa haker zaczął powodować przeciążenie tego i innych systemw komputerowych w centrali nasa do tego stopnia że wystąpiły zakłcenia łączności między centralą a astronautami na pokładzie promu \n",
      "\n",
      " 102  agencja kosmiczna nasa postanowiła wysłać w roku na marsa łazik ktry będzie poszukiwał śladw wody na czerwonej planecie \n",
      "\n",
      " 103  kosmiczna ciężarwkacysterna progress m połączyła się w sobotę rano ze stacją kosmiczną mir co umożliwi sprowadzenie na początku marca na ziemię przebywającej od lat w kosmosie stacji progres ma na swoim pokładzie ponad dwie tony paliwa i na sygnał z ziemi uruchomi swoje silniki by skierować ważącą ton stację w kierunku pacyfiku znaczna część stacji spłonie w gęstych warstwach atmosfery jednak część dotrze do powierzchni i powinna spaść do oceanu spokojnego między australią i chile pod koniec grudnia stacja znajdowała się na wysokości km nad ziemią obecnie jej orbita obniżyła się do kilometrw zaś sprowadzanie na powierzchnię macierzystej planety rozpocznie się na wysokości kilometrw \n",
      "\n",
      " 104  rosyjska rakieta saturn wystrzelona z kosmodromu w bajkonurze wyniosła na orbitę okołoziemską pięć zagranicznych satelitw w tym po raz pierwszy z malezji i z arabii saudyjskiej rakiety balistyczne ss ktre kiedyś należały do arsenału wojskowego byłego zsrr obecnie są wykorzystywane w ramach przedsięwzięcia rosyjskoukraińskiego do wynoszenia na orbitę satelitw komercyjnych wśrd satelitw wystrzelonych we wtorek są dwa włoskie megasat przeznaczony do badania środowiska naturalnego i unesat należący do uniwersytetu rzymskiego dwa satelity arabii saudyjskiej należą do instytutu badań kosmicznych krlestwa a piąty to malezyjski tiungsat wszystkie miały być wyniesione na orbitę sierpnia jednak ich wystrzelenie opźniło się w związku z problemami technicznymi na mocy układw o redukcji broni strategicznej start i start rakiety ss mają być do roku wysłane w kosmos i zniszczone zdaniem przedstawicieli władz rosyjskich zainteresowanie wykorzystaniem tych rakiet do wynoszenia satelitw wyraziło już kilka firm zachodnich gdyż koszty ich użycia są stosunkowo niewielkie od mln dolarw \n",
      "\n",
      " 105  astronauci na międzynarodowej stacji kosmicznej iss usunęli wyciek sprężonego powietrza między stacją a nową śluzą poinformowała nasa nasa oświadczyła jednocześnie że śluza jest gotowa do planowanego na dziś wyjścia w kosmos steven lindsay dowdca promu kosmicznego atlantis i james voss z załogi iss spędzili kilka godzin wymieniając osłonę zaworu a następnie ją testując wyciek sprężonego powierza został odkryty dwa dni wcześniej ponadto podczas montażu śluzy doszło do wycieku wody chłodzącej z tego powodu przedłużono o jeden dzień do wtorku misję promu atlantis zainstalowana w miniony weekend warta mln dolarw śluza będzie służyć do wychodzenia załogi iss w otwartą przestrzeń kosmiczną \n",
      "\n",
      " 106  szczątki rosyjskiej rakiety nośnej cyklon ktrej w środę wieczorem nie udało się wystrzelić w kosmos spadły do morza wschodniosyberyjskiego podała rosyjska agencja kosmiczna \n",
      "\n",
      " 107  amerykańska agencja kosmiczna nasa ogłosiła plany badań marsa na najbliższe dwie dekady między a rokiem na ziemię powinny zostać przywiezione prbki marsjańskiego gruntu \n",
      "\n",
      " 108  trzej członkowie załogi międzynarodowej stacji kosmicznej iss przyjęli na jej pokładzie pierwszych gości przybyłych promem kosmicznym endeavour luki przechodnie między iss a promem endeavour ktry przycumował do niej w ubiegłym tygodniu otworzyli dowdca stacji bill shepherd i jego rosyjska załoga jurij grizienko i siergiej krikałow obie załogi spędzą razem na stacji około godzin \n",
      "\n",
      " 109  w amerykańskiej agencji kosmicznej nasa zaprezentowano pierwsze fotografie ziemi przesłane przez satelitę terra znajdującego się na orbicie od grudnia roku według komunikatu nasa zdjęcia ukazują wzajemne oddziaływanie na siebie atmosfery lądw oceanw i promieniowania słonecznego dostarczają wielu ważnych informacji o stanie środowiska naturalnego na ziemi i będą przydatne przy opracowywaniu długoterminowych prognoz zmian klimatycznych \n",
      "\n",
      " 110  wahadłowiec atlantis wylądował na przylądku canaveral na florydzie w ciągu sześciu dni pracy na orbicie na pokładzie międzynarodowej stacji kosmicznej alfa amerykańskorosyjska załoga wymieniła cztery baterie słoneczne cztery wentylatory i dziesięć czujnikw przeciwpożarowych w module zaria \n",
      "\n",
      " 111  firma mircorp chce zbudować nowy załogowy statek kosmiczny mający dostarczać do stacji orbitalnej mir bogatych turystw pojazd ma kosztować ok mln dolarw i powinien być gotowy przed upływem dwch lat pierwszym klientem ktry miałby polecieć do stacji mir w przyszłym roku jest biznesmen z kalifornii dennis tito \n"
     ]
    }
   ],
   "source": [
    "for i, ind in zip(range(len(all_indices)), all_indices):\n",
    "    print('\\n'+' ' + str(i) + ' ' + splitted_notes[ind])"
   ]
  },
  {
   "cell_type": "code",
   "execution_count": 30,
   "metadata": {},
   "outputs": [
    {
     "data": {
      "text/plain": [
       "array([[False, False, False,  True, False, False],\n",
       "       [False, False, False, False,  True,  True],\n",
       "       [False, False, False, False,  True, False],\n",
       "       [False, False, False, False,  True,  True],\n",
       "       [ True, False,  True,  True, False,  True],\n",
       "       [False, False,  True,  True, False,  True],\n",
       "       [ True, False, False, False, False,  True],\n",
       "       [False, False,  True,  True, False,  True],\n",
       "       [ True, False, False,  True,  True,  True],\n",
       "       [False, False, False, False,  True,  True],\n",
       "       [ True,  True,  True,  True, False,  True],\n",
       "       [False, False,  True,  True, False,  True],\n",
       "       [False, False, False, False,  True,  True],\n",
       "       [False, False, False, False,  True,  True],\n",
       "       [False, False, False,  True, False,  True],\n",
       "       [False, False, False, False,  True,  True],\n",
       "       [False,  True,  True,  True, False, False],\n",
       "       [ True,  True,  True,  True,  True,  True],\n",
       "       [ True,  True,  True,  True,  True,  True],\n",
       "       [False, False, False,  True, False,  True],\n",
       "       [False, False,  True,  True,  True,  True],\n",
       "       [ True,  True,  True,  True, False,  True],\n",
       "       [False, False, False, False,  True,  True],\n",
       "       [False, False, False, False,  True,  True],\n",
       "       [False, False, False, False,  True,  True],\n",
       "       [False, False, False, False,  True,  True],\n",
       "       [False, False, False, False,  True,  True],\n",
       "       [ True, False, False, False,  True,  True],\n",
       "       [False, False, False, False,  True,  True],\n",
       "       [False, False, False, False,  True,  True],\n",
       "       [False, False, False, False,  True, False],\n",
       "       [False, False, False, False,  True,  True],\n",
       "       [False, False,  True,  True, False,  True],\n",
       "       [ True, False,  True,  True, False,  True],\n",
       "       [ True, False, False,  True, False,  True],\n",
       "       [False, False, False, False,  True,  True],\n",
       "       [False,  True,  True,  True, False,  True],\n",
       "       [False,  True,  True,  True, False, False],\n",
       "       [False, False, False, False,  True,  True],\n",
       "       [False, False, False, False,  True, False],\n",
       "       [False, False,  True,  True, False, False],\n",
       "       [False, False, False, False,  True,  True],\n",
       "       [ True,  True,  True,  True, False,  True],\n",
       "       [False,  True,  True,  True, False, False],\n",
       "       [False, False,  True,  True, False,  True],\n",
       "       [False, False,  True,  True, False, False],\n",
       "       [False, False, False, False,  True,  True],\n",
       "       [ True, False, False, False, False,  True],\n",
       "       [ True, False, False, False, False,  True],\n",
       "       [False, False, False, False,  True, False],\n",
       "       [False, False,  True,  True, False,  True],\n",
       "       [False, False,  True,  True, False, False],\n",
       "       [False, False, False, False,  True,  True],\n",
       "       [False, False, False, False,  True,  True],\n",
       "       [False, False, False, False,  True,  True],\n",
       "       [ True, False, False, False, False,  True],\n",
       "       [False, False, False, False,  True,  True],\n",
       "       [False,  True,  True,  True, False, False],\n",
       "       [False, False, False, False,  True,  True],\n",
       "       [ True, False, False, False, False,  True],\n",
       "       [False, False,  True,  True, False, False],\n",
       "       [False, False, False, False,  True,  True],\n",
       "       [False, False, False, False,  True,  True],\n",
       "       [False, False, False, False,  True,  True],\n",
       "       [ True, False, False, False, False,  True],\n",
       "       [False, False, False, False,  True,  True],\n",
       "       [False, False, False, False,  True,  True],\n",
       "       [False, False, False, False,  True,  True],\n",
       "       [False, False,  True,  True, False,  True],\n",
       "       [ True,  True,  True,  True, False,  True],\n",
       "       [ True, False, False, False, False,  True],\n",
       "       [ True,  True,  True,  True, False,  True],\n",
       "       [False, False,  True,  True, False,  True],\n",
       "       [ True,  True,  True,  True, False,  True],\n",
       "       [False, False, False, False,  True,  True],\n",
       "       [False, False, False, False,  True,  True],\n",
       "       [False, False,  True, False, False,  True],\n",
       "       [False,  True,  True,  True, False, False],\n",
       "       [False,  True,  True,  True, False, False],\n",
       "       [False, False, False, False,  True,  True],\n",
       "       [False, False,  True,  True, False,  True],\n",
       "       [ True,  True,  True,  True, False,  True],\n",
       "       [False, False, False, False,  True,  True],\n",
       "       [False, False, False, False,  True,  True],\n",
       "       [False,  True,  True,  True, False,  True],\n",
       "       [False, False,  True,  True, False, False],\n",
       "       [ True, False, False, False, False,  True],\n",
       "       [ True,  True,  True,  True, False,  True],\n",
       "       [ True,  True,  True,  True, False,  True],\n",
       "       [ True,  True,  True,  True, False,  True],\n",
       "       [False,  True,  True,  True, False,  True],\n",
       "       [ True, False,  True,  True,  True,  True],\n",
       "       [False,  True, False, False, False, False],\n",
       "       [ True, False,  True,  True,  True,  True],\n",
       "       [ True,  True,  True,  True,  True,  True],\n",
       "       [ True, False, False, False,  True,  True],\n",
       "       [False, False, False,  True, False,  True],\n",
       "       [False, False,  True,  True, False, False],\n",
       "       [ True, False, False, False, False,  True],\n",
       "       [False, False, False, False,  True,  True],\n",
       "       [False,  True,  True,  True, False, False],\n",
       "       [False, False, False, False,  True,  True],\n",
       "       [False, False, False, False,  True,  True],\n",
       "       [False, False, False, False,  True,  True],\n",
       "       [False,  True,  True,  True,  True,  True],\n",
       "       [False, False, False, False,  True,  True],\n",
       "       [ True, False, False, False, False,  True],\n",
       "       [False, False, False, False,  True,  True],\n",
       "       [False, False, False, False,  True,  True],\n",
       "       [False, False,  True,  True, False,  True],\n",
       "       [False, False, False,  True, False,  True],\n",
       "       [False, False, False, False,  True,  True]])"
      ]
     },
     "execution_count": 30,
     "metadata": {},
     "output_type": "execute_result"
    }
   ],
   "source": [
    "from sklearn.metrics import precision_score, recall_score, f1_score\n",
    "y = np.array([[i in indices['tfidf'], i in indices['graph3'], i in indices['graph4'], i in indices['graph5'], i in indices['LDA'], True] for i in all_indices])\n",
    "\n",
    "false_notes = [0,2,16,30,37,39,40,43,45,49,51,57,60,77,78,85,92,97,100]\n",
    "for f in false_notes:\n",
    "    y[f][5] = False\n",
    "y\n",
    "    "
   ]
  },
  {
   "cell_type": "code",
   "execution_count": 31,
   "metadata": {},
   "outputs": [
    {
     "name": "stdout",
     "output_type": "stream",
     "text": [
      "TfIdf\n",
      "Precision: 1.0\n",
      "Recall: 0.3333333333333333\n",
      "F1: 0.5\n",
      "\n",
      "Graph - 3\n",
      "Precision: 0.68\n",
      "Recall: 0.1827956989247312\n",
      "F1: 0.288135593220339\n",
      "\n",
      "Graph - 4\n",
      "Precision: 0.717391304347826\n",
      "Recall: 0.3548387096774194\n",
      "F1: 0.4748201438848921\n",
      "\n",
      "Graph - 5\n",
      "Precision: 0.7307692307692307\n",
      "Recall: 0.40860215053763443\n",
      "F1: 0.5241379310344828\n",
      "\n",
      "LDA\n",
      "Precision: 0.9285714285714286\n",
      "Recall: 0.5591397849462365\n",
      "F1: 0.6979865771812079\n",
      "\n"
     ]
    }
   ],
   "source": [
    "models = ['TfIdf', 'Graph - 3', 'Graph - 4', 'Graph - 5', 'LDA']\n",
    "for i in range(len(y[0]) - 1):\n",
    "    print(models[i])\n",
    "    print('Precision: ' + str(precision_score(y[:, 5], y[:, i])))\n",
    "    print('Recall: ' + str(recall_score(y[:, 5], y[:, i])))\n",
    "    print('F1: ' + str(f1_score(y[:, 5], y[:, i])))\n",
    "    print('')"
   ]
  }
 ],
 "metadata": {
  "kernelspec": {
   "display_name": "Python 3",
   "language": "python",
   "name": "python3"
  },
  "language_info": {
   "codemirror_mode": {
    "name": "ipython",
    "version": 3
   },
   "file_extension": ".py",
   "mimetype": "text/x-python",
   "name": "python",
   "nbconvert_exporter": "python",
   "pygments_lexer": "ipython3",
   "version": "3.6.5"
  }
 },
 "nbformat": 4,
 "nbformat_minor": 2
}
