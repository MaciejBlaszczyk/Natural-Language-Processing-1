{
 "cells": [
  {
   "cell_type": "code",
   "execution_count": 1,
   "metadata": {},
   "outputs": [],
   "source": [
    "from weighted_levenshtein import lev\n",
    "import numpy as np\n",
    "import codecs\n",
    "import re\n",
    "from collections import *\n",
    "files = ['formy.txt', 'dramat.txt', 'popul.txt', 'proza.txt', 'publ.txt', 'wp.txt']\n",
    "datasets_path = 'C:/Users/OptimusPrime/Desktop/Studia/NLP1/Natural-Language-Processing-1/Week 4/Data'"
   ]
  },
  {
   "cell_type": "code",
   "execution_count": 2,
   "metadata": {},
   "outputs": [],
   "source": [
    "class OrderedCounter(Counter, OrderedDict):\n",
    "    pass"
   ]
  },
  {
   "cell_type": "code",
   "execution_count": 3,
   "metadata": {},
   "outputs": [],
   "source": [
    "substitute_costs = np.ones((128, 128), dtype=np.float64)\n",
    "insert_costs = np.ones(128, dtype=np.float64)\n",
    "delete_costs = np.ones(128, dtype=np.float64)\n",
    "substitute_costs[ord('a'), ord('A')] = 0.001  # ą\n",
    "substitute_costs[ord('c'), ord('C')] = 0.001  # ć\n",
    "substitute_costs[ord('e'), ord('E')] = 0.001  # ę\n",
    "substitute_costs[ord('l'), ord('L')] = 0.001  # ł\n",
    "substitute_costs[ord('o'), ord('O')] = 0.001  # ó\n",
    "substitute_costs[ord('n'), ord('N')] = 0.001  # ń\n",
    "substitute_costs[ord('s'), ord('S')] = 0.001  # ś\n",
    "substitute_costs[ord('z'), ord('X')] = 0.001  # ź\n",
    "substitute_costs[ord('z'), ord('Z')] = 0.001  # ż\n",
    "\n",
    "substitute_costs[ord('O'), ord('u')] = 0.001  # ó -> u\n",
    "substitute_costs[ord('u'), ord('O')] = 0.001  # u -> ó\n",
    "substitute_costs[ord('r'), ord('s')] = 0.001  # rz -> sz\n",
    "substitute_costs[ord('s'), ord('r')] = 0.001  # sz -> rz\n",
    "insert_costs[ord('r')] = 0.001                # ż -> rz\n",
    "substitute_costs[ord('Z'), ord('z')] = 0.001  # ż -> z\n",
    "delete_costs[ord('r')] = 0.001                # rz -> ż\n",
    "insert_costs[ord('c')] = 0.001                # h -> ch\n",
    "delete_costs[ord('c')] = 0.001                # ch -> h"
   ]
  },
  {
   "cell_type": "code",
   "execution_count": 5,
   "metadata": {},
   "outputs": [],
   "source": [
    "all_words = list()\n",
    "for file in files:\n",
    "    with codecs.open(datasets_path + '/' + file, 'r', 'utf-8') as f:\n",
    "        text = f.read().lower()\n",
    "        text = re.sub(r\"[,.*1-9:()\\[\\]!?;\\'\\\"ú]\", '', text)\n",
    "        text = re.sub(r\"ą\", \"A\", text)\n",
    "        text = re.sub(r\"ć\", \"C\", text)\n",
    "        text = re.sub(r\"ę\", \"E\", text)\n",
    "        text = re.sub(r\"ł\", \"L\", text)\n",
    "        text = re.sub(r\"ó\", \"O\", text)\n",
    "        text = re.sub(r\"ń\", \"N\", text)\n",
    "        text = re.sub(r\"ś\", \"S\", text)\n",
    "        text = re.sub(r\"ź\", \"X\", text)\n",
    "        text = re.sub(r\"ż\", \"Z\", text)\n",
    "        text = text.encode('utf-8')\n",
    "        words = text.split()\n",
    "        all_words += words\n",
    "vocabulary = OrderedCounter(all_words)"
   ]
  },
  {
   "cell_type": "code",
   "execution_count": 6,
   "metadata": {},
   "outputs": [],
   "source": [
    "wrong_word = 'gzegzolka'\n",
    "ww = re.sub(r\"ą\", \"A\", wrong_word)\n",
    "ww = re.sub(r\"ć\", \"C\", ww)\n",
    "ww = re.sub(r\"ę\", \"E\", ww)\n",
    "ww = re.sub(r\"ł\", \"L\", ww)\n",
    "ww = re.sub(r\"ó\", \"O\", ww)\n",
    "ww = re.sub(r\"ń\", \"N\", ww)\n",
    "ww = re.sub(r\"ś\", \"S\", ww)\n",
    "ww = re.sub(r\"ź\", \"X\", ww)\n",
    "ww = re.sub(r\"ż\", \"Z\", ww)"
   ]
  },
  {
   "cell_type": "code",
   "execution_count": 7,
   "metadata": {},
   "outputs": [
    {
     "name": "stdout",
     "output_type": "stream",
     "text": [
      "Words with the smallest levenstein metric value:\n",
      "b'gZegZOLka' 0.004\n",
      "b'gZegZOLkA' 0.005\n",
      "b'gZegZOLkE' 1.004\n",
      "b'gZegZOLki' 1.004\n",
      "b'gZegZOLko' 1.004\n",
      "b'gZegZOLkach' 1.005\n",
      "b'gZegZOLce' 2.004\n",
      "b'gZegZOLek' 2.004\n",
      "b'gZegZOLkami' 2.004\n",
      "b'gZegZOLkom' 2.004\n",
      "b'czeczotka' 3.0\n",
      "b'czeczotkA' 3.001\n",
      "b'gruczoLka' 3.001\n",
      "b'grzechotka' 3.001\n",
      "b'grzegorza' 3.001\n",
      "b'grzesznika' 3.001\n",
      "b'rzeczuLka' 3.001\n",
      "b'brzegOwka' 3.002\n",
      "b'grzechotkA' 3.002\n",
      "b'grzeszyLa' 3.002\n"
     ]
    }
   ],
   "source": [
    "lev_met = [lev(ww, \n",
    "               word, \n",
    "               insert_costs=insert_costs, \n",
    "               substitute_costs=substitute_costs, \n",
    "               delete_costs=delete_costs) for word in vocabulary]\n",
    "vocab_list = list(vocabulary.keys())\n",
    "lev_met, vocab_list = (list(t) for t in zip(*sorted(zip(lev_met, vocab_list))))\n",
    "\n",
    "lev_met = lev_met[:20]\n",
    "vocab_list = vocab_list[:20]\n",
    "print(\"Words with the smallest levenstein metric value:\")\n",
    "for word, met in zip(vocab_list, lev_met):\n",
    "    print(word, met)"
   ]
  },
  {
   "cell_type": "code",
   "execution_count": 8,
   "metadata": {},
   "outputs": [
    {
     "name": "stdout",
     "output_type": "stream",
     "text": [
      "Pwc:\n",
      "b'gZegZOLka' 0.9986675549633578\n",
      "b'gZegZOLkA' 0.9983344437041972\n",
      "b'gZegZOLkE' 0.6655562958027981\n",
      "b'gZegZOLki' 0.6655562958027981\n",
      "b'gZegZOLko' 0.6655562958027981\n",
      "b'gZegZOLkach' 0.6652231845436376\n",
      "b'gZegZOLce' 0.33244503664223846\n",
      "b'gZegZOLek' 0.33244503664223846\n",
      "b'gZegZOLkami' 0.33244503664223846\n",
      "b'gZegZOLkom' 0.33244503664223846\n",
      "b'czeczotka' 0.0006662225183210468\n",
      "b'czeczotkA' 0.0003331112591604679\n",
      "b'gruczoLka' 0.0003331112591604679\n",
      "b'grzechotka' 0.0003331112591604679\n",
      "b'grzegorza' 0.0003331112591604679\n",
      "b'grzesznika' 0.0003331112591604679\n",
      "b'rzeczuLka' 0.0003331112591604679\n",
      "b'brzegOwka' 0.0\n",
      "b'grzechotkA' 0.0\n",
      "b'grzeszyLa' 0.0\n"
     ]
    }
   ],
   "source": [
    "maximum = lev_met[-1]\n",
    "P_wc = [1 - met / maximum for met in lev_met]\n",
    "print(\"Pwc:\")\n",
    "for word, prob in zip(vocab_list, P_wc):\n",
    "    print(word, prob)"
   ]
  },
  {
   "cell_type": "code",
   "execution_count": 9,
   "metadata": {},
   "outputs": [
    {
     "name": "stdout",
     "output_type": "stream",
     "text": [
      "Number of occurences of particular word:\n",
      "b'gZegZOLka' 2\n",
      "b'gZegZOLkA' 1\n",
      "b'gZegZOLkE' 1\n",
      "b'gZegZOLki' 2\n",
      "b'gZegZOLko' 1\n",
      "b'gZegZOLkach' 1\n",
      "b'gZegZOLce' 1\n",
      "b'gZegZOLek' 1\n",
      "b'gZegZOLkami' 1\n",
      "b'gZegZOLkom' 1\n",
      "b'czeczotka' 2\n",
      "b'czeczotkA' 1\n",
      "b'gruczoLka' 1\n",
      "b'grzechotka' 1\n",
      "b'grzegorza' 3\n",
      "b'grzesznika' 1\n",
      "b'rzeczuLka' 1\n",
      "b'brzegOwka' 1\n",
      "b'grzechotkA' 1\n",
      "b'grzeszyLa' 1\n"
     ]
    }
   ],
   "source": [
    "number_of_occurences = [vocabulary[word] for word in vocab_list]\n",
    "max_number_of_occurences = max(number_of_occurences)\n",
    "print(\"Number of occurences of particular word:\")\n",
    "for word, numb in zip(vocab_list, number_of_occurences):\n",
    "    print(word, numb)"
   ]
  },
  {
   "cell_type": "code",
   "execution_count": 10,
   "metadata": {},
   "outputs": [
    {
     "name": "stdout",
     "output_type": "stream",
     "text": [
      "Pc:\n",
      "b'gZegZOLka' 0.6666666666666666\n",
      "b'gZegZOLkA' 0.3333333333333333\n",
      "b'gZegZOLkE' 0.3333333333333333\n",
      "b'gZegZOLki' 0.6666666666666666\n",
      "b'gZegZOLko' 0.3333333333333333\n",
      "b'gZegZOLkach' 0.3333333333333333\n",
      "b'gZegZOLce' 0.3333333333333333\n",
      "b'gZegZOLek' 0.3333333333333333\n",
      "b'gZegZOLkami' 0.3333333333333333\n",
      "b'gZegZOLkom' 0.3333333333333333\n",
      "b'czeczotka' 0.6666666666666666\n",
      "b'czeczotkA' 0.3333333333333333\n",
      "b'gruczoLka' 0.3333333333333333\n",
      "b'grzechotka' 0.3333333333333333\n",
      "b'grzegorza' 1.0\n",
      "b'grzesznika' 0.3333333333333333\n",
      "b'rzeczuLka' 0.3333333333333333\n",
      "b'brzegOwka' 0.3333333333333333\n",
      "b'grzechotkA' 0.3333333333333333\n",
      "b'grzeszyLa' 0.3333333333333333\n"
     ]
    }
   ],
   "source": [
    "P_c = [numb/max_number_of_occurences for numb in number_of_occurences]\n",
    "print(\"Pc:\")\n",
    "for word, prob in zip(vocab_list, P_c):\n",
    "    print(word, prob)"
   ]
  },
  {
   "cell_type": "code",
   "execution_count": 42,
   "metadata": {},
   "outputs": [
    {
     "name": "stdout",
     "output_type": "stream",
     "text": [
      "b'gZegZOLka' 0.6657783699755718\n",
      "b'gZegZOLki' 0.4437041972018654\n",
      "b'gZegZOLkA' 0.33277814790139904\n",
      "b'gZegZOLko' 0.2218520986009327\n",
      "b'gZegZOLkE' 0.2218520986009327\n",
      "b'gZegZOLkach' 0.22174106151454587\n",
      "b'gZegZOLkom' 0.11081501221407948\n",
      "b'gZegZOLkami' 0.11081501221407948\n",
      "b'gZegZOLek' 0.11081501221407948\n",
      "b'gZegZOLce' 0.11081501221407948\n",
      "b'czeczotka' 0.00044414834554736454\n",
      "b'grzegorza' 0.0003331112591604679\n",
      "b'rzeczuLka' 0.00011103708638682264\n",
      "b'grzesznika' 0.00011103708638682264\n",
      "b'grzechotka' 0.00011103708638682264\n",
      "b'gruczoLka' 0.00011103708638682264\n",
      "b'czeczotkA' 0.00011103708638682264\n",
      "b'grzeszyLa' 0.0\n",
      "b'grzechotkA' 0.0\n",
      "b'brzegOwka' 0.0\n"
     ]
    }
   ],
   "source": [
    "P_cw = [ probs[0]  * probs[1] for probs in zip(P_wc, P_c)]\n",
    "P_cw, sorted_hints = (list(t) for t in zip(*sorted(zip(P_cw, vocab_list), reverse=True)))\n",
    "print(\"Pcw:\")\n",
    "for word, prob in zip(sorted_hints, P_cw):\n",
    "    print(word, prob)"
   ]
  }
 ],
 "metadata": {
  "kernelspec": {
   "display_name": "Python 3",
   "language": "python",
   "name": "python3"
  },
  "language_info": {
   "codemirror_mode": {
    "name": "ipython",
    "version": 3
   },
   "file_extension": ".py",
   "mimetype": "text/x-python",
   "name": "python",
   "nbconvert_exporter": "python",
   "pygments_lexer": "ipython3",
   "version": "3.6.5"
  }
 },
 "nbformat": 4,
 "nbformat_minor": 2
}
