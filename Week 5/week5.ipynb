{
 "cells": [
  {
   "cell_type": "code",
   "execution_count": 1,
   "metadata": {},
   "outputs": [],
   "source": [
    "import re\n",
    "import numpy as np\n",
    "from sklearn.feature_extraction.text import TfidfVectorizer, CountVectorizer, TfidfTransformer\n",
    "from sklearn.metrics.pairwise import cosine_similarity, pairwise_distances\n",
    "import codecs\n",
    "from collections import Counter, defaultdict\n",
    "from matplotlib import pyplot as plt\n",
    "import time\n",
    "datasets_path = 'C:/Users/OptimusPrime/Desktop/Studia/NLP1/Natural-Language-Processing-1/Week 5/Data'"
   ]
  },
  {
   "cell_type": "code",
   "execution_count": 2,
   "metadata": {},
   "outputs": [],
   "source": [
    "with codecs.open(datasets_path + '\\\\pap.txt', 'r', 'utf-8') as f:\n",
    "    text = f.read().lower()\n",
    "    preprocessed_text = re.sub(r'#\\d+', '##', text)\n",
    "    preprocessed_text = re.sub(r'\\n', ' ', preprocessed_text)\n",
    "    preprocessed_text = re.sub(r'[\\\\,.\\-\\'\\\"()?:;+\\/\\d+&`!\\[\\]@<>%*~{}=\\x96\\x84\\x8c\\x9c\\x9f\\x92\\x80]', '', preprocessed_text)\n",
    "    preprocessed_text = re.sub(r'[\\xbc-\\xff]', '', preprocessed_text)\n",
    "    preprocessed_text = re.sub(r'   ', '  ', preprocessed_text)\n",
    "    preprocessed_text = re.sub(r'  ', ' ', preprocessed_text)\n",
    "    splitted_notes = np.array(preprocessed_text.split('##'))"
   ]
  },
  {
   "cell_type": "code",
   "execution_count": null,
   "metadata": {},
   "outputs": [],
   "source": []
  },
  {
   "cell_type": "code",
   "execution_count": null,
   "metadata": {},
   "outputs": [],
   "source": []
  },
  {
   "cell_type": "code",
   "execution_count": 3,
   "metadata": {},
   "outputs": [
    {
     "data": {
      "text/plain": [
       "<51557x37529 sparse matrix of type '<class 'numpy.float64'>'\n",
       "\twith 1818797 stored elements in Compressed Sparse Row format>"
      ]
     },
     "execution_count": 3,
     "metadata": {},
     "output_type": "execute_result"
    }
   ],
   "source": [
    "tf = TfidfVectorizer(max_df=3000, min_df=6, token_pattern='(?u)\\\\b\\\\w+\\\\b')\n",
    "freq_matr = tf.fit_transform(splitted_notes)\n",
    "freq_matr"
   ]
  },
  {
   "cell_type": "code",
   "execution_count": 4,
   "metadata": {},
   "outputs": [],
   "source": [
    "frequency_matrix = freq_matr.toarray()\n",
    "chosen_note = frequency_matrix[2634].astype(bool)"
   ]
  },
  {
   "cell_type": "code",
   "execution_count": 5,
   "metadata": {},
   "outputs": [
    {
     "name": "stdout",
     "output_type": "stream",
     "text": [
      "Time:43.558661222457886\n"
     ]
    }
   ],
   "source": [
    "start = time.time()\n",
    "dice_similarity_vector = [pairwise_distances([chosen_note, note], metric='dice')[0][1] for note in frequency_matrix.astype(bool)]\n",
    "print(\"Time:\" + str(time.time() - start))"
   ]
  },
  {
   "cell_type": "code",
   "execution_count": 6,
   "metadata": {},
   "outputs": [
    {
     "data": {
      "image/png": "[encoded data removed]",
      "text/plain": [
       "<Figure size 432x288 with 1 Axes>"
      ]
     },
     "metadata": {},
     "output_type": "display_data"
    }
   ],
   "source": [
    "dice_distribution = Counter([metric for metric in dice_similarity_vector if metric != 1.0 and metric != 0.0])\n",
    "plt.scatter(list(dice_distribution.keys()), list(dice_distribution.values()), s=9)\n",
    "plt.show()"
   ]
  },
  {
   "cell_type": "code",
   "execution_count": 7,
   "metadata": {},
   "outputs": [
    {
     "name": "stdout",
     "output_type": "stream",
     "text": [
      "Number of similar notes: 16\n"
     ]
    }
   ],
   "source": [
    "indices = dict()\n",
    "indices['tfidf'] = list()\n",
    "indices['graph3'] = list()\n",
    "indices['graph4'] = list()\n",
    "indices['graph5'] = list()\n",
    "for i in range(len(dice_similarity_vector)):\n",
    "    if dice_similarity_vector[i] < 0.86:\n",
    "        indices['tfidf'].append(i)\n",
    "print(\"Number of similar notes: \" + str(len(indices['tfidf'])))"
   ]
  },
  {
   "cell_type": "code",
   "execution_count": 8,
   "metadata": {},
   "outputs": [],
   "source": [
    "del frequency_matrix"
   ]
  },
  {
   "cell_type": "code",
   "execution_count": null,
   "metadata": {},
   "outputs": [],
   "source": []
  },
  {
   "cell_type": "code",
   "execution_count": null,
   "metadata": {},
   "outputs": [],
   "source": []
  },
  {
   "cell_type": "code",
   "execution_count": 9,
   "metadata": {},
   "outputs": [],
   "source": [
    "cv = CountVectorizer(max_df=3000, min_df=6, token_pattern='(?u)\\\\b\\\\w+\\\\b')\n",
    "cv_freq_matrix = cv.fit_transform(splitted_notes)\n",
    "words = cv.get_feature_names()\n",
    "occurence_number = cv_freq_matrix.sum(axis=0).A1\n",
    "len(cv.stop_words_)\n",
    "stop_list = cv.stop_words_"
   ]
  },
  {
   "cell_type": "code",
   "execution_count": 10,
   "metadata": {},
   "outputs": [],
   "source": [
    "occurence_number, words = (list(t) for t in zip(*sorted(zip(occurence_number, words), reverse=True)))"
   ]
  },
  {
   "cell_type": "code",
   "execution_count": 11,
   "metadata": {},
   "outputs": [
    {
     "data": {
      "text/plain": [
       "<51557x37529 sparse matrix of type '<class 'numpy.int64'>'\n",
       "\twith 1818797 stored elements in Compressed Sparse Row format>"
      ]
     },
     "execution_count": 11,
     "metadata": {},
     "output_type": "execute_result"
    }
   ],
   "source": [
    "cv_freq_matrix"
   ]
  },
  {
   "cell_type": "code",
   "execution_count": 12,
   "metadata": {},
   "outputs": [],
   "source": [
    "def delete_banned_words(matchobj):\n",
    "    word = matchobj.group(0)\n",
    "    if word.lower() in banned_words:\n",
    "        return \"\"\n",
    "    else:\n",
    "        return word\n",
    "\n",
    "banned_words = stop_list\n",
    "word_pattern = re.compile('\\w+')\n",
    "graph_notes = list()\n",
    "for sentence in splitted_notes:\n",
    "    graph_notes.append(word_pattern.sub(delete_banned_words, sentence).split())    "
   ]
  },
  {
   "cell_type": "code",
   "execution_count": 13,
   "metadata": {},
   "outputs": [],
   "source": [
    "encoder= {k: v for (k, v) in zip(words, range(len(words)))}"
   ]
  },
  {
   "cell_type": "code",
   "execution_count": 14,
   "metadata": {},
   "outputs": [],
   "source": [
    "def transform_from_words_note_to_graph_vector(graph_note, n):\n",
    "    note_matrix_dict = defaultdict(int)\n",
    "    note_len = len(graph_note)\n",
    "    if note_len == n-4 or note_len == n-3 or note_len == n-2 or note_len == n-1:\n",
    "        return defaultdict(int)\n",
    "    for i in range(note_len):\n",
    "        if i == note_len - (n -1):\n",
    "            break;  \n",
    "        for j in range(n-1):\n",
    "            note_matrix_dict[(encoder[graph_note[i]], encoder[graph_note[i+1+j]])] += 1\n",
    "    return note_matrix_dict"
   ]
  },
  {
   "cell_type": "code",
   "execution_count": 15,
   "metadata": {},
   "outputs": [
    {
     "data": {
      "image/png": "[encoded data removed]",
      "text/plain": [
       "<Figure size 432x288 with 1 Axes>"
      ]
     },
     "metadata": {},
     "output_type": "display_data"
    }
   ],
   "source": [
    "chosen_note = transform_from_words_note_to_graph_vector(graph_notes[2634], 3)\n",
    "dice_metric = list()\n",
    "for note in graph_notes:\n",
    "    test_note = transform_from_words_note_to_graph_vector(note, 3)\n",
    "    X_Y = 0\n",
    "    X = len(test_note)\n",
    "    Y = len(chosen_note)\n",
    "    for key in chosen_note:\n",
    "        if key in test_note:\n",
    "            X_Y += 1\n",
    "    dice_metric.append(1-(2*X_Y/(X+Y)))\n",
    "\n",
    "dice_distribution = Counter([metric for metric in dice_metric if metric != 1.0 and metric != 0.0])\n",
    "plt.scatter(list(dice_distribution.keys()), list(dice_distribution.values()), s=9)\n",
    "plt.show()"
   ]
  },
  {
   "cell_type": "code",
   "execution_count": 16,
   "metadata": {},
   "outputs": [
    {
     "name": "stdout",
     "output_type": "stream",
     "text": [
      "Number of similar notes: 10\n"
     ]
    }
   ],
   "source": [
    "for i in range(len(dice_metric)):\n",
    "    if dice_metric[i] < 0.9999:\n",
    "        indices['graph3'].append(i)\n",
    "print(\"Number of similar notes: \" + str(len(indices['graph3'])))"
   ]
  },
  {
   "cell_type": "code",
   "execution_count": null,
   "metadata": {},
   "outputs": [],
   "source": []
  },
  {
   "cell_type": "code",
   "execution_count": null,
   "metadata": {},
   "outputs": [],
   "source": []
  },
  {
   "cell_type": "code",
   "execution_count": 26,
   "metadata": {},
   "outputs": [
    {
     "data": {
      "image/png": "[encoded data removed]",
      "text/plain": [
       "<Figure size 432x288 with 1 Axes>"
      ]
     },
     "metadata": {},
     "output_type": "display_data"
    }
   ],
   "source": [
    "chosen_note = transform_from_words_note_to_graph_vector(graph_notes[2634], 4)\n",
    "dice_metric = list()\n",
    "for note in graph_notes:\n",
    "    test_note = transform_from_words_note_to_graph_vector(note, 4)\n",
    "    X_Y = 0\n",
    "    X = len(test_note)\n",
    "    Y = len(chosen_note)\n",
    "    for key in chosen_note:\n",
    "        if key in test_note:\n",
    "            X_Y += 1\n",
    "    dice_metric.append(1-(2*X_Y/(X+Y)))\n",
    "\n",
    "dice_distribution = Counter([metric for metric in dice_metric if metric != 1.0 and metric != 0.0])\n",
    "plt.scatter(list(dice_distribution.keys()), list(dice_distribution.values()), s=9)\n",
    "plt.show()"
   ]
  },
  {
   "cell_type": "code",
   "execution_count": 27,
   "metadata": {},
   "outputs": [
    {
     "name": "stdout",
     "output_type": "stream",
     "text": [
      "Number of similar notes: 32\n"
     ]
    }
   ],
   "source": [
    "for i in range(len(dice_metric)):\n",
    "    if dice_metric[i] < 0.9999:\n",
    "        indices['graph4'].append(i)\n",
    "print(\"Number of similar notes: \" + str(len(indices['graph4'])))"
   ]
  },
  {
   "cell_type": "code",
   "execution_count": null,
   "metadata": {},
   "outputs": [],
   "source": []
  },
  {
   "cell_type": "code",
   "execution_count": null,
   "metadata": {},
   "outputs": [],
   "source": []
  },
  {
   "cell_type": "code",
   "execution_count": 35,
   "metadata": {},
   "outputs": [
    {
     "data": {
      "image/png": "[encoded data removed]",
      "text/plain": [
       "<Figure size 432x288 with 1 Axes>"
      ]
     },
     "metadata": {},
     "output_type": "display_data"
    }
   ],
   "source": [
    "chosen_note = transform_from_words_note_to_graph_vector(graph_notes[2634], 5)\n",
    "dice_metric = list()\n",
    "for note in graph_notes:\n",
    "    test_note = transform_from_words_note_to_graph_vector(note, 5)\n",
    "    X_Y = 0\n",
    "    X = len(test_note)\n",
    "    Y = len(chosen_note)\n",
    "    for key in chosen_note:\n",
    "        if key in test_note:\n",
    "            X_Y += 1\n",
    "    dice_metric.append(1-(2*X_Y/(X+Y)))\n",
    "\n",
    "dice_distribution = Counter([metric for metric in dice_metric if metric != 1.0 and metric != 0.0])\n",
    "plt.scatter(list(dice_distribution.keys()), list(dice_distribution.values()), s=9)\n",
    "plt.show()"
   ]
  },
  {
   "cell_type": "code",
   "execution_count": 36,
   "metadata": {},
   "outputs": [
    {
     "name": "stdout",
     "output_type": "stream",
     "text": [
      "Number of similar notes: 48\n"
     ]
    }
   ],
   "source": [
    "for i in range(len(dice_metric)):\n",
    "    if dice_metric[i] < 0.9999:\n",
    "        indices['graph5'].append(i)\n",
    "print(\"Number of similar notes: \" + str(len(indices['graph5'])))"
   ]
  },
  {
   "cell_type": "code",
   "execution_count": null,
   "metadata": {},
   "outputs": [],
   "source": []
  },
  {
   "cell_type": "code",
   "execution_count": null,
   "metadata": {},
   "outputs": [],
   "source": []
  },
  {
   "cell_type": "code",
   "execution_count": 37,
   "metadata": {},
   "outputs": [],
   "source": [
    "all_indices = set()\n",
    "for key in indices:\n",
    "    for val in indices[key]:\n",
    "        all_indices.add(val)\n"
   ]
  },
  {
   "cell_type": "code",
   "execution_count": 38,
   "metadata": {},
   "outputs": [
    {
     "data": {
      "text/plain": [
       "{1596,\n",
       " 1866,\n",
       " 1938,\n",
       " 2634,\n",
       " 4989,\n",
       " 11089,\n",
       " 12517,\n",
       " 13853,\n",
       " 14917,\n",
       " 17486,\n",
       " 18345,\n",
       " 19409,\n",
       " 20811,\n",
       " 21422,\n",
       " 23563,\n",
       " 23960,\n",
       " 25225,\n",
       " 37385,\n",
       " 38420,\n",
       " 40130,\n",
       " 45970}"
      ]
     },
     "execution_count": 38,
     "metadata": {},
     "output_type": "execute_result"
    }
   ],
   "source": [
    "all_indices"
   ]
  },
  {
   "cell_type": "code",
   "execution_count": 39,
   "metadata": {},
   "outputs": [
    {
     "name": "stdout",
     "output_type": "stream",
     "text": [
      "\n",
      " polskie przyrządy wejdą w skład wyposażenia satelity intergral ktry zostanie wyniesiony na orbitę w kwietniu poinformował pap dyrektor centrum badań kosmicznych pan prof zbigniew kłos \n",
      "\n",
      " w indiach udało się wystrzelić rakietę nośną gslv zdolną wynosić satelity na orbitę geostacjonarną podała państwowa agencja prasowa pti \n",
      "\n",
      " europejska rakieta nośna ariane wyniosła w nocy ze środy na czwartek na orbitę cztery satelity o rekordowej wadze łącznie tony \n",
      "\n",
      " rakieta taurus wystrzelona w niedzielę z bazy lotnictwa wojskowego vandenberg w kalifornii wyniosła na orbitę satelitę mti ktry będzie przez trzy lata obserwował zmiany fal elektromagnetycznych w atmosferze ziemi \n",
      "\n",
      " rakieta ariane wystrzelona w nocy z czwartku na piątek z kosmodromu na gujanie francuskiej nie zdoła wynieść na właściwą orbitę dwch satelitw telekomunikacyjnych \n",
      "\n",
      " amerykańska agencja kosmiczna nasa przedłużyła o dwa dni pobyt na orbicie wahadłowca endeavour i zapowiedziała rozmowy z rosjanami \n",
      "\n",
      " niepowodzeniem zakończyła się prba umieszczenia na orbicie okołoziemskiej amerykańskiego satelity badawczego wystrzelonego z kosmodromu w rosyjskim plesiecku jak poinformowała rosyjska agencja kosmiczna ostatecznie stracono amerykańskiego satelitę badawczego quick bird ktry w nocy z poniedziałku na wtorek został wyniesiony na orbitę okołoziemską przez rosyjską rakietę nośną kosmosm rakieta została wystrzelona z rosyjskiego kosmodromu w plesiecku amerykański satelita miał z orbity okołoziemskiej prowadzić badania powierzchni ziemi przyczyny straty satelity bada specjalna komisja pod kierownictwem szefa kosmodromu w plesiecku gen giennadija kowalenki służba prasowa rosyjskich rakietowych wojsk strategicznych informowała wcześniej że satelita po wejściu na orbitę nie wysłał w ustalonym terminie sygnałw radiowych według agencji interfax powołującej się na anonimowe źrdła w rosyjskiej agencji kosmicznej drugi człon rakiety nośnej odpadł zbyt wcześnie i satelita prawdopodobnie wpadł w atmosferę ziemską zleceniodawcą wystrzelenia satelity była amerykańska firma ers watch amerykańskie firmy często korzystają z rosyjskich kosmodromw do wystrzeliwania satelitw komercyjnych \n",
      "\n",
      " rosyjskoukraińska rakieta zenit wystrzelona została w nocy z piątku na sobotę z pływającego na pacyfiku kosmodromu morski start i umieściła na orbicie wokłziemskiej aparat kosmiczny panamsat aparat o masie tony przeznaczony jest do transmitowania programw telewizyjnych z orbity geostacjonarnej w marcu tego roku wskutek niepowodzenia startu rakiety z pływającego kosmodromu stracony został satelita o wartości milionw dolarw kosmodrom ten przerobiony został z platformy naftowej w momencie startu rakiety zenit znajdował się on w odległości kilometrw na południowy wschd od hawajw \n",
      "\n",
      " z bazy kosmicznej kourou w gujanie francuskiej wystrzelono zachodnioeuropejską rakietę ariane ktra wyniosła na orbitę dwa satelity telekomunikacyjne rakieta wzniosła się w powietrze zgodnie z harmonogramem o czasu miejscowego w piątek czasu polskiego jest to szste wystrzelenie tego typu ciężkiej rakiety nośnej nowej generacji i zarazem trzecie z ładunkiem komercyjnym satelity ktre umieściła na orbicie zapewnią połączenia telekomunikacyjne między europą stanami zjednoczonymi i karaibami wystrzelenie miało nastąpić początkowo w lipcu jednak zostało przesunięte na termin pźniejszy po wykryciu defektu w systemie napędowym ariane przeznaczona do wynoszenia na orbitę dużych płatnych ładunkw ma za sobą lata trudnych prb jej pierwszy lot testowy w roku zakończył się eksplozją a pierwszy udany lot komercyjny nastąpił dopiero w ubiegłym roku \n",
      "\n",
      " wystrzelona z platformy morskiej na pacyfiku rosyjskoukraińska rakieta zenit wyniosła na orbitę wokłziemską arabskiego satelitę telekomunikacyjnego \n",
      "\n",
      " po dwa zespoly wprowadzily do cwiercfinaly pucharu uefa federacje angielska leeds united arsenal londyn i francuska rc lens as monaco \n",
      "\n",
      " rosyjska rakieta protonk wystrzelona z kosmodromu bajkonur w kazachstanie wyniosła na orbitę wokłziemską amerykańskiego satelitę telekomunikacyjnego panamsat pas \n",
      "\n",
      " dwa satelity ktre będą badać wpływ słońca na ziemię wystrzelono z kosmodromu bajkonur w kazachstanie \n",
      "\n",
      " dwa satelity telekomunikacyjne wprowadziła na orbitę francuska rakieta kosmiczna ariane wystrzelona z bazy kourou w gujanie francuskiej \n",
      "\n",
      " z kosmodromu bajkonur w kazachstanie pomyślnie wystartowała rosyjska rakieta proton wynosząc na orbitę wokłziemską trzy wojskowe satelity nawigacyjne systemu głonass \n",
      "\n",
      " rosja wprowadziła na orbitę wokłziemską satelitę telekomunikacyjnego przy użyciu rakiety proton tego samego typu ktry ma być w lipcu wykorzystany do umieszczenia w kosmosie modułu międzynarodowej stacji orbitalnej \n",
      "\n",
      " europejska rakieta ariane wystrzelona w środę z bazy w gujanie francuskiej wyniosła na orbitę kolejnego satelitę dla operatora telekomunikacyjnego eutelsat \n",
      "\n",
      " rosyjska rakieta proton wystrzelona z kosmodromu w bajkonurze wyniosła w sobotę na orbitę amerykańskiego satelitę telekomunikacyjnego był to kolejny z serii pomyślnych lotw protona po pechowym zeszłym roku gdy dwie rakiety rozbiły się nad kazachstanem \n",
      "\n",
      " rosyjska rakieta saturn wystrzelona z kosmodromu w bajkonurze wyniosła na orbitę okołoziemską pięć zagranicznych satelitw w tym po raz pierwszy z malezji i z arabii saudyjskiej rakiety balistyczne ss ktre kiedyś należały do arsenału wojskowego byłego zsrr obecnie są wykorzystywane w ramach przedsięwzięcia rosyjskoukraińskiego do wynoszenia na orbitę satelitw komercyjnych wśrd satelitw wystrzelonych we wtorek są dwa włoskie megasat przeznaczony do badania środowiska naturalnego i unesat należący do uniwersytetu rzymskiego dwa satelity arabii saudyjskiej należą do instytutu badań kosmicznych krlestwa a piąty to malezyjski tiungsat wszystkie miały być wyniesione na orbitę sierpnia jednak ich wystrzelenie opźniło się w związku z problemami technicznymi na mocy układw o redukcji broni strategicznej start i start rakiety ss mają być do roku wysłane w kosmos i zniszczone zdaniem przedstawicieli władz rosyjskich zainteresowanie wykorzystaniem tych rakiet do wynoszenia satelitw wyraziło już kilka firm zachodnich gdyż koszty ich użycia są stosunkowo niewielkie od mln dolarw \n",
      "\n",
      " prawie dwa miliony zdjęć gwiazd galaktyk i mgławic zamierza udostępnić użytkownikom internetu w roku agencja kosmiczna nasa oraz national science fundation \n",
      "\n",
      " firma arianespace poinformowała że jej rakieta ariane wystrzelona z bazy w kourou w gujanie francuskiej wyniosła w przestrzeń kosmiczną amerykańskiego satelitę telekomunikacyjnego galaxyiv r satelita wyposażony w przekaźnikw nadających w dwch pasmach będzie przez lat obsługiwać sieci telewizyjne i firmy internetowe oraz transmitować dane na obszarze całej ameryki zastąpi kończącego służbę satelitę galaxyiv satelity z serii galaxy należą do amerykańskiego towarzystwa panamsat ktre w minionych latach razy korzystało z francuskich rakiet ariane przy ekspedycji tych aparatw w kosmos \n"
     ]
    }
   ],
   "source": [
    "for ind in all_indices:\n",
    "    print('\\n'+splitted_notes[ind])"
   ]
  },
  {
   "cell_type": "code",
   "execution_count": 40,
   "metadata": {},
   "outputs": [
    {
     "data": {
      "text/plain": [
       "array([[False, False,  True,  True,  True],\n",
       "       [ True, False,  True,  True,  True],\n",
       "       [ True,  True,  True,  True,  True],\n",
       "       [ True,  True,  True,  True,  True],\n",
       "       [ True,  True,  True,  True,  True],\n",
       "       [ True, False, False, False,  True],\n",
       "       [False, False,  True,  True,  True],\n",
       "       [False, False,  True,  True,  True],\n",
       "       [ True,  True,  True,  True,  True],\n",
       "       [ True, False, False, False,  True],\n",
       "       [ True, False, False, False,  True],\n",
       "       [ True, False,  True,  True,  True],\n",
       "       [ True,  True,  True,  True,  True],\n",
       "       [ True,  True,  True,  True,  True],\n",
       "       [ True, False, False, False,  True],\n",
       "       [False,  True,  True,  True,  True],\n",
       "       [ True,  True,  True,  True,  True],\n",
       "       [ True, False,  True,  True,  True],\n",
       "       [False,  True,  True,  True,  True],\n",
       "       [ True, False, False, False,  True],\n",
       "       [ True,  True,  True,  True,  True]])"
      ]
     },
     "execution_count": 40,
     "metadata": {},
     "output_type": "execute_result"
    }
   ],
   "source": [
    "from sklearn.metrics import precision_score, recall_score, f1_score\n",
    "y = np.array([[i in indices['tfidf'], i in indices['graph3'], i in indices['graph4'], i in indices['graph5'], True] for i in all_indices])\n",
    "y\n",
    "    "
   ]
  },
  {
   "cell_type": "code",
   "execution_count": 41,
   "metadata": {},
   "outputs": [
    {
     "name": "stdout",
     "output_type": "stream",
     "text": [
      "TfIdf\n",
      "Precision: 1.0\n",
      "Recall: 0.7619047619047619\n",
      "F1: 0.8648648648648648\n",
      "\n",
      "Graph - 3\n",
      "Precision: 1.0\n",
      "Recall: 0.47619047619047616\n",
      "F1: 0.6451612903225806\n",
      "\n",
      "Graph - 4\n",
      "Precision: 1.0\n",
      "Recall: 0.7619047619047619\n",
      "F1: 0.8648648648648648\n",
      "\n",
      "Graph - 5\n",
      "Precision: 1.0\n",
      "Recall: 0.7619047619047619\n",
      "F1: 0.8648648648648648\n",
      "\n"
     ]
    }
   ],
   "source": [
    "models = ['TfIdf', 'Graph - 3', 'Graph - 4', 'Graph - 5']\n",
    "for i in range(len(y[0]) - 1):\n",
    "    print(models[i])\n",
    "    print('Precision: ' + str(precision_score(y[:, 4], y[:, i])))\n",
    "    print('Recall: ' + str(recall_score(y[:, 4], y[:, i])))\n",
    "    print('F1: ' + str(f1_score(y[:, 4], y[:, i])))\n",
    "    print('')"
   ]
  },
  {
   "cell_type": "code",
   "execution_count": null,
   "metadata": {},
   "outputs": [],
   "source": []
  }
 ],
 "metadata": {
  "kernelspec": {
   "display_name": "Python 3",
   "language": "python",
   "name": "python3"
  },
  "language_info": {
   "codemirror_mode": {
    "name": "ipython",
    "version": 3
   },
   "file_extension": ".py",
   "mimetype": "text/x-python",
   "name": "python",
   "nbconvert_exporter": "python",
   "pygments_lexer": "ipython3",
   "version": "3.6.5"
  }
 },
 "nbformat": 4,
 "nbformat_minor": 2
}
